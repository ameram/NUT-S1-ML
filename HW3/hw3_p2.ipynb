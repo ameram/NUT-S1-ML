{
 "cells": [
  {
   "cell_type": "code",
   "execution_count": 2,
   "id": "6f0e334b-f74c-4421-b1ed-7ef44653d888",
   "metadata": {},
   "outputs": [],
   "source": [
    "import pandas as pd\n",
    "import numpy as np\n",
    "from sklearn.datasets import load_iris"
   ]
  },
  {
   "cell_type": "code",
   "execution_count": 3,
   "id": "0f00f33f-9576-4079-bb18-f06fb6e154d3",
   "metadata": {},
   "outputs": [],
   "source": [
    "df = load_iris(as_frame=True)"
   ]
  },
  {
   "cell_type": "code",
   "execution_count": 4,
   "id": "f861e03e-0359-42be-8ac5-bfa2018901a9",
   "metadata": {},
   "outputs": [],
   "source": [
    "df = pd.DataFrame(df['frame'])"
   ]
  },
  {
   "cell_type": "code",
   "execution_count": 5,
   "id": "fbc0adfa-1d37-4db0-852d-0a6afefd4c98",
   "metadata": {},
   "outputs": [
    {
     "data": {
      "text/html": [
       "<div>\n",
       "<style scoped>\n",
       "    .dataframe tbody tr th:only-of-type {\n",
       "        vertical-align: middle;\n",
       "    }\n",
       "\n",
       "    .dataframe tbody tr th {\n",
       "        vertical-align: top;\n",
       "    }\n",
       "\n",
       "    .dataframe thead th {\n",
       "        text-align: right;\n",
       "    }\n",
       "</style>\n",
       "<table border=\"1\" class=\"dataframe\">\n",
       "  <thead>\n",
       "    <tr style=\"text-align: right;\">\n",
       "      <th></th>\n",
       "      <th>sepal length (cm)</th>\n",
       "      <th>sepal width (cm)</th>\n",
       "      <th>petal length (cm)</th>\n",
       "      <th>petal width (cm)</th>\n",
       "      <th>target</th>\n",
       "    </tr>\n",
       "  </thead>\n",
       "  <tbody>\n",
       "    <tr>\n",
       "      <th>0</th>\n",
       "      <td>5.1</td>\n",
       "      <td>3.5</td>\n",
       "      <td>1.4</td>\n",
       "      <td>0.2</td>\n",
       "      <td>0</td>\n",
       "    </tr>\n",
       "    <tr>\n",
       "      <th>1</th>\n",
       "      <td>4.9</td>\n",
       "      <td>3.0</td>\n",
       "      <td>1.4</td>\n",
       "      <td>0.2</td>\n",
       "      <td>0</td>\n",
       "    </tr>\n",
       "    <tr>\n",
       "      <th>2</th>\n",
       "      <td>4.7</td>\n",
       "      <td>3.2</td>\n",
       "      <td>1.3</td>\n",
       "      <td>0.2</td>\n",
       "      <td>0</td>\n",
       "    </tr>\n",
       "    <tr>\n",
       "      <th>3</th>\n",
       "      <td>4.6</td>\n",
       "      <td>3.1</td>\n",
       "      <td>1.5</td>\n",
       "      <td>0.2</td>\n",
       "      <td>0</td>\n",
       "    </tr>\n",
       "    <tr>\n",
       "      <th>4</th>\n",
       "      <td>5.0</td>\n",
       "      <td>3.6</td>\n",
       "      <td>1.4</td>\n",
       "      <td>0.2</td>\n",
       "      <td>0</td>\n",
       "    </tr>\n",
       "  </tbody>\n",
       "</table>\n",
       "</div>"
      ],
      "text/plain": [
       "   sepal length (cm)  sepal width (cm)  petal length (cm)  petal width (cm)  \\\n",
       "0                5.1               3.5                1.4               0.2   \n",
       "1                4.9               3.0                1.4               0.2   \n",
       "2                4.7               3.2                1.3               0.2   \n",
       "3                4.6               3.1                1.5               0.2   \n",
       "4                5.0               3.6                1.4               0.2   \n",
       "\n",
       "   target  \n",
       "0       0  \n",
       "1       0  \n",
       "2       0  \n",
       "3       0  \n",
       "4       0  "
      ]
     },
     "execution_count": 5,
     "metadata": {},
     "output_type": "execute_result"
    }
   ],
   "source": [
    "df.head()"
   ]
  },
  {
   "cell_type": "markdown",
   "id": "044203e2-9897-4df0-bb7d-7b23a0f4330b",
   "metadata": {},
   "source": [
    "### TO-DO\n",
    "* SVM, Linear, OVR\n",
    "* SVM, Linear, OVO\n",
    "* SVM, RBF, OVR\n",
    "* SVM, Poly(d=3), OVR"
   ]
  },
  {
   "cell_type": "code",
   "execution_count": 7,
   "id": "ec0351fd-4387-4964-b86e-628b25c530cd",
   "metadata": {
    "scrolled": true
   },
   "outputs": [
    {
     "name": "stdout",
     "output_type": "stream",
     "text": [
      "Object `OneVsRestClassifier` not found.\n"
     ]
    }
   ],
   "source": [
    "OneVsRestClassifier?"
   ]
  },
  {
   "cell_type": "code",
   "execution_count": 8,
   "id": "fcea8db5-50ea-4b11-9aa2-905c49093e41",
   "metadata": {
    "scrolled": true
   },
   "outputs": [
    {
     "data": {
      "text/plain": [
       "Index(['sepal length (cm)', 'sepal width (cm)', 'petal length (cm)',\n",
       "       'petal width (cm)', 'target'],\n",
       "      dtype='object')"
      ]
     },
     "execution_count": 8,
     "metadata": {},
     "output_type": "execute_result"
    }
   ],
   "source": [
    "df.columns"
   ]
  },
  {
   "cell_type": "markdown",
   "id": "bb2c0890-f18b-499b-b5bf-4c3f5d01745d",
   "metadata": {},
   "source": [
    "#### MODEL 1: SVM, Linear, OVR"
   ]
  },
  {
   "cell_type": "code",
   "execution_count": 16,
   "id": "77e1a0c6-c4f8-4373-afb0-ce0ba35058f4",
   "metadata": {
    "editable": true,
    "slideshow": {
     "slide_type": ""
    },
    "tags": []
   },
   "outputs": [
    {
     "data": {
      "text/plain": [
       "0.96"
      ]
     },
     "execution_count": 16,
     "metadata": {},
     "output_type": "execute_result"
    }
   ],
   "source": [
    "from sklearn.multiclass import OneVsRestClassifier, OneVsOneClassifier\n",
    "from sklearn.svm import SVC\n",
    "\n",
    "# By default the Sci-Kit Learn library provides a OVO classifier\n",
    "# when we use SVM Classifier. But I am going to use the one \n",
    "# from sklearn multiclass.\n",
    "\n",
    "model = SVC(kernel='linear')\n",
    "ovr_svm = OneVsRestClassifier(model)\n",
    "ovr_svm.fit(df.drop('target', axis=1), df.target)\n",
    "ovr_svm.score(df.drop('target', axis=1), df.target)"
   ]
  },
  {
   "cell_type": "markdown",
   "id": "7f43d8cc-9f2d-4e39-a9a4-bbd1a521a866",
   "metadata": {},
   "source": [
    "#### MODEL 2: SVM, Linear, OVO"
   ]
  },
  {
   "cell_type": "code",
   "execution_count": 19,
   "id": "20775b0c-0a87-4f99-929e-1d1581fdc3dd",
   "metadata": {
    "scrolled": true
   },
   "outputs": [
    {
     "data": {
      "text/plain": [
       "0.9933333333333333"
      ]
     },
     "execution_count": 19,
     "metadata": {},
     "output_type": "execute_result"
    }
   ],
   "source": [
    "model = SVC(kernel='linear')\n",
    "ovr_svm = OneVsOneClassifier(model)\n",
    "ovr_svm.fit(df.drop('target', axis=1), df.target)\n",
    "ovr_svm.score(df.drop('target', axis=1), df.target)"
   ]
  },
  {
   "cell_type": "markdown",
   "id": "243d385d-e237-4ed1-8efe-0b5b20739657",
   "metadata": {},
   "source": [
    "#### MODEL 3: SVM, RBF, OVR"
   ]
  },
  {
   "cell_type": "code",
   "execution_count": 22,
   "id": "eafc7921-24d1-45d7-bd45-9a608f044c48",
   "metadata": {
    "scrolled": true
   },
   "outputs": [
    {
     "data": {
      "text/plain": [
       "0.9733333333333334"
      ]
     },
     "execution_count": 22,
     "metadata": {},
     "output_type": "execute_result"
    }
   ],
   "source": [
    "model = SVC(kernel='rbf')\n",
    "ovr_svm = OneVsOneClassifier(model)\n",
    "ovr_svm.fit(df.drop('target', axis=1), df.target)\n",
    "ovr_svm.score(df.drop('target', axis=1), df.target)"
   ]
  },
  {
   "cell_type": "markdown",
   "id": "504818ee-990c-4fed-b5c5-d107e4badcb5",
   "metadata": {},
   "source": [
    "#### MODEL 4: SVM, Poly(d=3), OVR"
   ]
  },
  {
   "cell_type": "code",
   "execution_count": 25,
   "id": "fd941f77-5e98-4842-9742-393dcda1f0ec",
   "metadata": {
    "scrolled": true
   },
   "outputs": [
    {
     "data": {
      "text/plain": [
       "0.9866666666666667"
      ]
     },
     "execution_count": 25,
     "metadata": {},
     "output_type": "execute_result"
    }
   ],
   "source": [
    "model = SVC(kernel='poly', degree=3)\n",
    "ovr_svm = OneVsOneClassifier(model)\n",
    "ovr_svm.fit(df.drop('target', axis=1), df.target)\n",
    "ovr_svm.score(df.drop('target', axis=1), df.target)"
   ]
  },
  {
   "cell_type": "markdown",
   "id": "f8097feb-6293-448f-b8fe-3ccbbb180bd3",
   "metadata": {},
   "source": [
    "## Plotting"
   ]
  },
  {
   "cell_type": "code",
   "execution_count": 34,
   "id": "a3ce1d3c-30aa-4afe-b919-756b7f121a4e",
   "metadata": {},
   "outputs": [
    {
     "data": {
      "image/png": "[encoded data removed]",
      "text/plain": [
       "<Figure size 400x300 with 1 Axes>"
      ]
     },
     "metadata": {},
     "output_type": "display_data"
    }
   ],
   "source": [
    "import matplotlib.pyplot as plt\n",
    "\n",
    "\n",
    "fig, ax = plt.subplots(figsize=(4, 3))\n",
    "# x_min, x_max, y_min, y_max = -3, 3, -3, 3\n",
    "# ax.set(xlim=(x_min, x_max), ylim=(y_min, y_max))\n",
    "\n",
    "# Plot samples by color and add legend\n",
    "x = df['petal length (cm)']\n",
    "y = df['petal width (cm)']\n",
    "scatter = ax.scatter(x, y, s=150, c=y, label=y, edgecolors=\"k\")\n",
    "ax.legend(*scatter.legend_elements(), loc=\"upper right\", title=\"Classes\")\n",
    "ax.set_title(\"Samples in two-dimensional feature space\")\n",
    "_ = plt.show()"
   ]
  },
  {
   "cell_type": "code",
   "execution_count": null,
   "id": "434e0f14-61ef-4006-8dc0-ffab51b1ebbb",
   "metadata": {},
   "outputs": [],
   "source": []
  }
 ],
 "metadata": {
  "kernelspec": {
   "display_name": "Python 3 (ipykernel)",
   "language": "python",
   "name": "python3"
  },
  "language_info": {
   "codemirror_mode": {
    "name": "ipython",
    "version": 3
   },
   "file_extension": ".py",
   "mimetype": "text/x-python",
   "name": "python",
   "nbconvert_exporter": "python",
   "pygments_lexer": "ipython3",
   "version": "3.11.7"
  }
 },
 "nbformat": 4,
 "nbformat_minor": 5
}
