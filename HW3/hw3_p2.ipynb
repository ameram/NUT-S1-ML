{
 "cells": [
  {
   "cell_type": "code",
   "execution_count": 3,
   "id": "6f0e334b-f74c-4421-b1ed-7ef44653d888",
   "metadata": {},
   "outputs": [],
   "source": [
    "import pandas as pd\n",
    "import numpy as np\n",
    "from sklearn.datasets import load_iris"
   ]
  },
  {
   "cell_type": "code",
   "execution_count": 29,
   "id": "0f00f33f-9576-4079-bb18-f06fb6e154d3",
   "metadata": {},
   "outputs": [],
   "source": [
    "df = load_iris(as_frame=True)"
   ]
  },
  {
   "cell_type": "code",
   "execution_count": 37,
   "id": "f861e03e-0359-42be-8ac5-bfa2018901a9",
   "metadata": {},
   "outputs": [],
   "source": [
    "df = pd.DataFrame(df['frame'])"
   ]
  },
  {
   "cell_type": "code",
   "execution_count": 39,
   "id": "fbc0adfa-1d37-4db0-852d-0a6afefd4c98",
   "metadata": {},
   "outputs": [
    {
     "data": {
      "text/html": [
       "<div>\n",
       "<style scoped>\n",
       "    .dataframe tbody tr th:only-of-type {\n",
       "        vertical-align: middle;\n",
       "    }\n",
       "\n",
       "    .dataframe tbody tr th {\n",
       "        vertical-align: top;\n",
       "    }\n",
       "\n",
       "    .dataframe thead th {\n",
       "        text-align: right;\n",
       "    }\n",
       "</style>\n",
       "<table border=\"1\" class=\"dataframe\">\n",
       "  <thead>\n",
       "    <tr style=\"text-align: right;\">\n",
       "      <th></th>\n",
       "      <th>sepal length (cm)</th>\n",
       "      <th>sepal width (cm)</th>\n",
       "      <th>petal length (cm)</th>\n",
       "      <th>petal width (cm)</th>\n",
       "      <th>target</th>\n",
       "    </tr>\n",
       "  </thead>\n",
       "  <tbody>\n",
       "    <tr>\n",
       "      <th>0</th>\n",
       "      <td>5.1</td>\n",
       "      <td>3.5</td>\n",
       "      <td>1.4</td>\n",
       "      <td>0.2</td>\n",
       "      <td>0</td>\n",
       "    </tr>\n",
       "    <tr>\n",
       "      <th>1</th>\n",
       "      <td>4.9</td>\n",
       "      <td>3.0</td>\n",
       "      <td>1.4</td>\n",
       "      <td>0.2</td>\n",
       "      <td>0</td>\n",
       "    </tr>\n",
       "    <tr>\n",
       "      <th>2</th>\n",
       "      <td>4.7</td>\n",
       "      <td>3.2</td>\n",
       "      <td>1.3</td>\n",
       "      <td>0.2</td>\n",
       "      <td>0</td>\n",
       "    </tr>\n",
       "    <tr>\n",
       "      <th>3</th>\n",
       "      <td>4.6</td>\n",
       "      <td>3.1</td>\n",
       "      <td>1.5</td>\n",
       "      <td>0.2</td>\n",
       "      <td>0</td>\n",
       "    </tr>\n",
       "    <tr>\n",
       "      <th>4</th>\n",
       "      <td>5.0</td>\n",
       "      <td>3.6</td>\n",
       "      <td>1.4</td>\n",
       "      <td>0.2</td>\n",
       "      <td>0</td>\n",
       "    </tr>\n",
       "  </tbody>\n",
       "</table>\n",
       "</div>"
      ],
      "text/plain": [
       "   sepal length (cm)  sepal width (cm)  petal length (cm)  petal width (cm)  \\\n",
       "0                5.1               3.5                1.4               0.2   \n",
       "1                4.9               3.0                1.4               0.2   \n",
       "2                4.7               3.2                1.3               0.2   \n",
       "3                4.6               3.1                1.5               0.2   \n",
       "4                5.0               3.6                1.4               0.2   \n",
       "\n",
       "   target  \n",
       "0       0  \n",
       "1       0  \n",
       "2       0  \n",
       "3       0  \n",
       "4       0  "
      ]
     },
     "execution_count": 39,
     "metadata": {},
     "output_type": "execute_result"
    }
   ],
   "source": [
    "df.head()"
   ]
  },
  {
   "cell_type": "markdown",
   "id": "044203e2-9897-4df0-bb7d-7b23a0f4330b",
   "metadata": {},
   "source": [
    "### TO-DO\n",
    "* SVM, Linear, OVR\n",
    "* SVM, Linear, OVO\n",
    "* SVM, RBF, OVR\n",
    "* SVM, Poly(d=3), OVR"
   ]
  },
  {
   "cell_type": "code",
   "execution_count": 46,
   "id": "ec0351fd-4387-4964-b86e-628b25c530cd",
   "metadata": {
    "scrolled": true
   },
   "outputs": [
    {
     "data": {
      "text/plain": [
       "\u001b[0;31mInit signature:\u001b[0m \u001b[0mOneVsRestClassifier\u001b[0m\u001b[0;34m(\u001b[0m\u001b[0mestimator\u001b[0m\u001b[0;34m,\u001b[0m \u001b[0;34m*\u001b[0m\u001b[0;34m,\u001b[0m \u001b[0mn_jobs\u001b[0m\u001b[0;34m=\u001b[0m\u001b[0;32mNone\u001b[0m\u001b[0;34m,\u001b[0m \u001b[0mverbose\u001b[0m\u001b[0;34m=\u001b[0m\u001b[0;36m0\u001b[0m\u001b[0;34m)\u001b[0m\u001b[0;34m\u001b[0m\u001b[0;34m\u001b[0m\u001b[0m\n",
       "\u001b[0;31mDocstring:\u001b[0m     \n",
       "One-vs-the-rest (OvR) multiclass strategy.\n",
       "\n",
       "Also known as one-vs-all, this strategy consists in fitting one classifier\n",
       "per class. For each classifier, the class is fitted against all the other\n",
       "classes. In addition to its computational efficiency (only `n_classes`\n",
       "classifiers are needed), one advantage of this approach is its\n",
       "interpretability. Since each class is represented by one and one classifier\n",
       "only, it is possible to gain knowledge about the class by inspecting its\n",
       "corresponding classifier. This is the most commonly used strategy for\n",
       "multiclass classification and is a fair default choice.\n",
       "\n",
       "OneVsRestClassifier can also be used for multilabel classification. To use\n",
       "this feature, provide an indicator matrix for the target `y` when calling\n",
       "`.fit`. In other words, the target labels should be formatted as a 2D\n",
       "binary (0/1) matrix, where [i, j] == 1 indicates the presence of label j\n",
       "in sample i. This estimator uses the binary relevance method to perform\n",
       "multilabel classification, which involves training one binary classifier\n",
       "independently for each label.\n",
       "\n",
       "Read more in the :ref:`User Guide <ovr_classification>`.\n",
       "\n",
       "Parameters\n",
       "----------\n",
       "estimator : estimator object\n",
       "    A regressor or a classifier that implements :term:`fit`.\n",
       "    When a classifier is passed, :term:`decision_function` will be used\n",
       "    in priority and it will fallback to :term:`predict_proba` if it is not\n",
       "    available.\n",
       "    When a regressor is passed, :term:`predict` is used.\n",
       "\n",
       "n_jobs : int, default=None\n",
       "    The number of jobs to use for the computation: the `n_classes`\n",
       "    one-vs-rest problems are computed in parallel.\n",
       "\n",
       "    ``None`` means 1 unless in a :obj:`joblib.parallel_backend` context.\n",
       "    ``-1`` means using all processors. See :term:`Glossary <n_jobs>`\n",
       "    for more details.\n",
       "\n",
       "    .. versionchanged:: 0.20\n",
       "       `n_jobs` default changed from 1 to None\n",
       "\n",
       "verbose : int, default=0\n",
       "    The verbosity level, if non zero, progress messages are printed.\n",
       "    Below 50, the output is sent to stderr. Otherwise, the output is sent\n",
       "    to stdout. The frequency of the messages increases with the verbosity\n",
       "    level, reporting all iterations at 10. See :class:`joblib.Parallel` for\n",
       "    more details.\n",
       "\n",
       "    .. versionadded:: 1.1\n",
       "\n",
       "Attributes\n",
       "----------\n",
       "estimators_ : list of `n_classes` estimators\n",
       "    Estimators used for predictions.\n",
       "\n",
       "classes_ : array, shape = [`n_classes`]\n",
       "    Class labels.\n",
       "\n",
       "n_classes_ : int\n",
       "    Number of classes.\n",
       "\n",
       "label_binarizer_ : LabelBinarizer object\n",
       "    Object used to transform multiclass labels to binary labels and\n",
       "    vice-versa.\n",
       "\n",
       "multilabel_ : boolean\n",
       "    Whether a OneVsRestClassifier is a multilabel classifier.\n",
       "\n",
       "n_features_in_ : int\n",
       "    Number of features seen during :term:`fit`. Only defined if the\n",
       "    underlying estimator exposes such an attribute when fit.\n",
       "\n",
       "    .. versionadded:: 0.24\n",
       "\n",
       "feature_names_in_ : ndarray of shape (`n_features_in_`,)\n",
       "    Names of features seen during :term:`fit`. Only defined if the\n",
       "    underlying estimator exposes such an attribute when fit.\n",
       "\n",
       "    .. versionadded:: 1.0\n",
       "\n",
       "See Also\n",
       "--------\n",
       "OneVsOneClassifier : One-vs-one multiclass strategy.\n",
       "OutputCodeClassifier : (Error-Correcting) Output-Code multiclass strategy.\n",
       "sklearn.multioutput.MultiOutputClassifier : Alternate way of extending an\n",
       "    estimator for multilabel classification.\n",
       "sklearn.preprocessing.MultiLabelBinarizer : Transform iterable of iterables\n",
       "    to binary indicator matrix.\n",
       "\n",
       "Examples\n",
       "--------\n",
       ">>> import numpy as np\n",
       ">>> from sklearn.multiclass import OneVsRestClassifier\n",
       ">>> from sklearn.svm import SVC\n",
       ">>> X = np.array([\n",
       "...     [10, 10],\n",
       "...     [8, 10],\n",
       "...     [-5, 5.5],\n",
       "...     [-5.4, 5.5],\n",
       "...     [-20, -20],\n",
       "...     [-15, -20]\n",
       "... ])\n",
       ">>> y = np.array([0, 0, 1, 1, 2, 2])\n",
       ">>> clf = OneVsRestClassifier(SVC()).fit(X, y)\n",
       ">>> clf.predict([[-19, -20], [9, 9], [-5, 5]])\n",
       "array([2, 0, 1])\n",
       "\u001b[0;31mFile:\u001b[0m           /opt/anaconda3/lib/python3.11/site-packages/sklearn/multiclass.py\n",
       "\u001b[0;31mType:\u001b[0m           type\n",
       "\u001b[0;31mSubclasses:\u001b[0m     "
      ]
     },
     "metadata": {},
     "output_type": "display_data"
    }
   ],
   "source": [
    "OneVsRestClassifier?"
   ]
  },
  {
   "cell_type": "code",
   "execution_count": 48,
   "id": "fcea8db5-50ea-4b11-9aa2-905c49093e41",
   "metadata": {
    "scrolled": true
   },
   "outputs": [
    {
     "data": {
      "text/plain": [
       "Index(['sepal length (cm)', 'sepal width (cm)', 'petal length (cm)',\n",
       "       'petal width (cm)', 'target'],\n",
       "      dtype='object')"
      ]
     },
     "execution_count": 48,
     "metadata": {},
     "output_type": "execute_result"
    }
   ],
   "source": [
    "df.columns"
   ]
  },
  {
   "cell_type": "markdown",
   "id": "bb2c0890-f18b-499b-b5bf-4c3f5d01745d",
   "metadata": {},
   "source": [
    "#### MODEL 1: SVM, Linear, OVR"
   ]
  },
  {
   "cell_type": "code",
   "execution_count": 64,
   "id": "77e1a0c6-c4f8-4373-afb0-ce0ba35058f4",
   "metadata": {
    "editable": true,
    "slideshow": {
     "slide_type": ""
    },
    "tags": []
   },
   "outputs": [
    {
     "data": {
      "text/plain": [
       "0.96"
      ]
     },
     "execution_count": 64,
     "metadata": {},
     "output_type": "execute_result"
    }
   ],
   "source": [
    "from sklearn.multiclass import OneVsRestClassifier, OneVsOneClassifier\n",
    "from sklearn.svm import SVC\n",
    "\n",
    "# By default the Sci-Kit Learn library provides a OVO classifier\n",
    "# when we use SVM Classifier. But I am going to use the one \n",
    "# from sklearn multiclass.\n",
    "\n",
    "model = SVC(kernel='linear')\n",
    "ovr_svm = OneVsRestClassifier(model)\n",
    "ovr_svm.fit(df.drop('target', axis=1), df.target)\n",
    "ovr_svm.score(df.drop('target', axis=1), df.target)"
   ]
  },
  {
   "cell_type": "markdown",
   "id": "7f43d8cc-9f2d-4e39-a9a4-bbd1a521a866",
   "metadata": {},
   "source": [
    "#### MODEL 2: SVM, Linear, OVO"
   ]
  },
  {
   "cell_type": "code",
   "execution_count": 70,
   "id": "20775b0c-0a87-4f99-929e-1d1581fdc3dd",
   "metadata": {
    "scrolled": true
   },
   "outputs": [
    {
     "data": {
      "text/plain": [
       "0.9933333333333333"
      ]
     },
     "execution_count": 70,
     "metadata": {},
     "output_type": "execute_result"
    }
   ],
   "source": [
    "model = SVC(kernel='linear')\n",
    "ovr_svm = OneVsOneClassifier(model)\n",
    "ovr_svm.fit(df.drop('target', axis=1), df.target)\n",
    "ovr_svm.score(df.drop('target', axis=1), df.target)"
   ]
  },
  {
   "cell_type": "markdown",
   "id": "243d385d-e237-4ed1-8efe-0b5b20739657",
   "metadata": {},
   "source": [
    "#### MODEL 3: SVM, RBF, OVR"
   ]
  },
  {
   "cell_type": "code",
   "execution_count": 76,
   "id": "eafc7921-24d1-45d7-bd45-9a608f044c48",
   "metadata": {
    "scrolled": true
   },
   "outputs": [
    {
     "data": {
      "text/plain": [
       "0.9733333333333334"
      ]
     },
     "execution_count": 76,
     "metadata": {},
     "output_type": "execute_result"
    }
   ],
   "source": [
    "model = SVC(kernel='rbf')\n",
    "ovr_svm = OneVsOneClassifier(model)\n",
    "ovr_svm.fit(df.drop('target', axis=1), df.target)\n",
    "ovr_svm.score(df.drop('target', axis=1), df.target)"
   ]
  },
  {
   "cell_type": "markdown",
   "id": "504818ee-990c-4fed-b5c5-d107e4badcb5",
   "metadata": {},
   "source": [
    "#### MODEL 4: SVM, Poly(d=3), OVR"
   ]
  },
  {
   "cell_type": "code",
   "execution_count": 78,
   "id": "fd941f77-5e98-4842-9742-393dcda1f0ec",
   "metadata": {
    "scrolled": true
   },
   "outputs": [
    {
     "data": {
      "text/plain": [
       "0.9866666666666667"
      ]
     },
     "execution_count": 78,
     "metadata": {},
     "output_type": "execute_result"
    }
   ],
   "source": [
    "model = SVC(kernel='poly', degree=3)\n",
    "ovr_svm = OneVsOneClassifier(model)\n",
    "ovr_svm.fit(df.drop('target', axis=1), df.target)\n",
    "ovr_svm.score(df.drop('target', axis=1), df.target)"
   ]
  },
  {
   "cell_type": "code",
   "execution_count": null,
   "id": "84eb9b91-9316-43a6-ac52-9594b09fd7ba",
   "metadata": {},
   "outputs": [],
   "source": []
  }
 ],
 "metadata": {
  "kernelspec": {
   "display_name": "Python 3 (ipykernel)",
   "language": "python",
   "name": "python3"
  },
  "language_info": {
   "codemirror_mode": {
    "name": "ipython",
    "version": 3
   },
   "file_extension": ".py",
   "mimetype": "text/x-python",
   "name": "python",
   "nbconvert_exporter": "python",
   "pygments_lexer": "ipython3",
   "version": "3.11.7"
  }
 },
 "nbformat": 4,
 "nbformat_minor": 5
}
