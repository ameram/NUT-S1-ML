{
 "cells": [
  {
   "cell_type": "markdown",
   "id": "8d4c84a5-ed34-4c04-b907-f7bb148f1354",
   "metadata": {},
   "source": [
    "# EXERCISE 1\n",
    "## Part 1.1."
   ]
  },
  {
   "cell_type": "code",
   "execution_count": 5,
   "id": "d5c326db-f8c5-423c-8125-831f74f175e6",
   "metadata": {},
   "outputs": [],
   "source": [
    "import numpy as np\n",
    "import pandas as pd\n",
    "import nltk\n",
    "from nltk.corpus import stopwords\n",
    "from sklearn.feature_extraction.text import TfidfVectorizer\n",
    "from sklearn.svm import SVC\n",
    "from sklearn.model_selection import train_test_split, GridSearchCV"
   ]
  },
  {
   "cell_type": "code",
   "execution_count": 6,
   "id": "abb149d2-8c72-4eee-a641-b7842b5312f2",
   "metadata": {},
   "outputs": [
    {
     "data": {
      "text/html": [
       "<div>\n",
       "<style scoped>\n",
       "    .dataframe tbody tr th:only-of-type {\n",
       "        vertical-align: middle;\n",
       "    }\n",
       "\n",
       "    .dataframe tbody tr th {\n",
       "        vertical-align: top;\n",
       "    }\n",
       "\n",
       "    .dataframe thead th {\n",
       "        text-align: right;\n",
       "    }\n",
       "</style>\n",
       "<table border=\"1\" class=\"dataframe\">\n",
       "  <thead>\n",
       "    <tr style=\"text-align: right;\">\n",
       "      <th></th>\n",
       "      <th>Text</th>\n",
       "      <th>Classification</th>\n",
       "    </tr>\n",
       "  </thead>\n",
       "  <tbody>\n",
       "    <tr>\n",
       "      <th>0</th>\n",
       "      <td>Sayın Yetkili ,\\n  Gelişen ve değişen günümüz ...</td>\n",
       "      <td>spam</td>\n",
       "    </tr>\n",
       "    <tr>\n",
       "      <th>1</th>\n",
       "      <td>Sayın Yetkili,\\n \\n28 Kasım 2010 tarihli KPSS ...</td>\n",
       "      <td>spam</td>\n",
       "    </tr>\n",
       "    <tr>\n",
       "      <th>2</th>\n",
       "      <td>Sayın Yetkili ,\\n  Gelişen ve değişen günümüz ...</td>\n",
       "      <td>spam</td>\n",
       "    </tr>\n",
       "    <tr>\n",
       "      <th>3</th>\n",
       "      <td>T.C.\\nURLA KAYMAKAMLIĞI\\nURLA HAKAN ÇEKEN ANAD...</td>\n",
       "      <td>spam</td>\n",
       "    </tr>\n",
       "    <tr>\n",
       "      <th>4</th>\n",
       "      <td>Sayın Yetkili ,Hızla büyüyen ve gelişmekte ola...</td>\n",
       "      <td>spam</td>\n",
       "    </tr>\n",
       "    <tr>\n",
       "      <th>5</th>\n",
       "      <td>Sayın Yetkili ,\\n\\nHızla büyüyen ve gelişmekte...</td>\n",
       "      <td>spam</td>\n",
       "    </tr>\n",
       "    <tr>\n",
       "      <th>6</th>\n",
       "      <td>Bizler ÖSYMnin 10--11 Temmuz 2010 tarihinde y...</td>\n",
       "      <td>spam</td>\n",
       "    </tr>\n",
       "    <tr>\n",
       "      <th>7</th>\n",
       "      <td>Sayın Yetkili ,Hızla büyüyen ve gelişmekte ola...</td>\n",
       "      <td>spam</td>\n",
       "    </tr>\n",
       "    <tr>\n",
       "      <th>8</th>\n",
       "      <td>Sayın Yetkili ,Hızla büyüyen ve gelişmekte ola...</td>\n",
       "      <td>spam</td>\n",
       "    </tr>\n",
       "    <tr>\n",
       "      <th>9</th>\n",
       "      <td>Sayın Yetklili ,En fazla mezun veren bölümlerd...</td>\n",
       "      <td>spam</td>\n",
       "    </tr>\n",
       "  </tbody>\n",
       "</table>\n",
       "</div>"
      ],
      "text/plain": [
       "                                                Text Classification\n",
       "0  Sayın Yetkili ,\\n  Gelişen ve değişen günümüz ...           spam\n",
       "1  Sayın Yetkili,\\n \\n28 Kasım 2010 tarihli KPSS ...           spam\n",
       "2  Sayın Yetkili ,\\n  Gelişen ve değişen günümüz ...           spam\n",
       "3  T.C.\\nURLA KAYMAKAMLIĞI\\nURLA HAKAN ÇEKEN ANAD...           spam\n",
       "4  Sayın Yetkili ,Hızla büyüyen ve gelişmekte ola...           spam\n",
       "5  Sayın Yetkili ,\\n\\nHızla büyüyen ve gelişmekte...           spam\n",
       "6  Bizler ÖSYMnin 10--11 Temmuz 2010 tarihinde y...           spam\n",
       "7  Sayın Yetkili ,Hızla büyüyen ve gelişmekte ola...           spam\n",
       "8  Sayın Yetkili ,Hızla büyüyen ve gelişmekte ola...           spam\n",
       "9  Sayın Yetklili ,En fazla mezun veren bölümlerd...           spam"
      ]
     },
     "execution_count": 6,
     "metadata": {},
     "output_type": "execute_result"
    }
   ],
   "source": [
    "df = pd.read_csv('trspam.csv', on_bad_lines='skip')\n",
    "df.head(10)"
   ]
  },
  {
   "cell_type": "code",
   "execution_count": 93,
   "id": "5c81c59f-e1cf-4636-929e-3ff8de453d56",
   "metadata": {},
   "outputs": [
    {
     "name": "stdout",
     "output_type": "stream",
     "text": [
      "<class 'pandas.core.frame.DataFrame'>\n",
      "RangeIndex: 701 entries, 0 to 700\n",
      "Data columns (total 2 columns):\n",
      " #   Column          Non-Null Count  Dtype \n",
      "---  ------          --------------  ----- \n",
      " 0   Text            700 non-null    object\n",
      " 1   Classification  701 non-null    object\n",
      "dtypes: object(2)\n",
      "memory usage: 11.1+ KB\n"
     ]
    }
   ],
   "source": [
    "df.info()"
   ]
  },
  {
   "cell_type": "code",
   "execution_count": 95,
   "id": "0390ce2a-1b2b-4a90-899c-12cbedeed011",
   "metadata": {},
   "outputs": [
    {
     "data": {
      "text/plain": [
       "array(['spam', 'ham'], dtype=object)"
      ]
     },
     "execution_count": 95,
     "metadata": {},
     "output_type": "execute_result"
    }
   ],
   "source": [
    "pd.unique(df['Classification'])"
   ]
  },
  {
   "cell_type": "code",
   "execution_count": 97,
   "id": "33d01eb4-ea19-4c11-adfb-1a397109669c",
   "metadata": {},
   "outputs": [],
   "source": [
    "df = df.dropna(axis=0)"
   ]
  },
  {
   "cell_type": "code",
   "execution_count": 99,
   "id": "494c774e-95cd-4e4f-9507-f57bd3b0cbb5",
   "metadata": {},
   "outputs": [
    {
     "data": {
      "text/plain": [
       "489.99999999999994"
      ]
     },
     "execution_count": 99,
     "metadata": {},
     "output_type": "execute_result"
    }
   ],
   "source": [
    "df.shape[0] * .7\n",
    "# We keep 490 rows for training and remaining 230 for testing."
   ]
  },
  {
   "cell_type": "code",
   "execution_count": 101,
   "id": "3f912357-1cd2-4f0b-b2d6-a36f377a3ec4",
   "metadata": {},
   "outputs": [],
   "source": [
    "train, test = train_test_split(df, test_size = 0.3, random_state=1)"
   ]
  },
  {
   "cell_type": "markdown",
   "id": "3c8db113-fa55-45cd-98e2-f8933071fedf",
   "metadata": {},
   "source": [
    "## Part 1.2."
   ]
  },
  {
   "cell_type": "code",
   "execution_count": 110,
   "id": "92d8cec5-b187-4218-8563-7f2137115869",
   "metadata": {},
   "outputs": [
    {
     "data": {
      "text/plain": [
       "['acaba',\n",
       " 'ama',\n",
       " 'aslında',\n",
       " 'az',\n",
       " 'bazı',\n",
       " 'belki',\n",
       " 'biri',\n",
       " 'birkaç',\n",
       " 'birşey',\n",
       " 'biz',\n",
       " 'bu',\n",
       " 'çok',\n",
       " 'çünkü',\n",
       " 'da',\n",
       " 'daha',\n",
       " 'de',\n",
       " 'defa',\n",
       " 'diye',\n",
       " 'eğer',\n",
       " 'en',\n",
       " 'gibi',\n",
       " 'hem',\n",
       " 'hep',\n",
       " 'hepsi',\n",
       " 'her',\n",
       " 'hiç',\n",
       " 'için',\n",
       " 'ile',\n",
       " 'ise',\n",
       " 'kez',\n",
       " 'ki',\n",
       " 'kim',\n",
       " 'mı',\n",
       " 'mu',\n",
       " 'mü',\n",
       " 'nasıl',\n",
       " 'ne',\n",
       " 'neden',\n",
       " 'nerde',\n",
       " 'nerede',\n",
       " 'nereye',\n",
       " 'niçin',\n",
       " 'niye',\n",
       " 'o',\n",
       " 'sanki',\n",
       " 'şey',\n",
       " 'siz',\n",
       " 'şu',\n",
       " 'tüm',\n",
       " 've',\n",
       " 'veya',\n",
       " 'ya',\n",
       " 'yani']"
      ]
     },
     "execution_count": 110,
     "metadata": {},
     "output_type": "execute_result"
    }
   ],
   "source": [
    "stop_words = list(stopwords.words('turkish'))\n",
    "stop_words"
   ]
  },
  {
   "cell_type": "code",
   "execution_count": 112,
   "id": "fbd09898-9625-4def-9745-ef93f9216b88",
   "metadata": {
    "scrolled": true
   },
   "outputs": [],
   "source": [
    "vectorizer = TfidfVectorizer(stop_words=stop_words)\n",
    "X = vectorizer.fit_transform(df.Text)"
   ]
  },
  {
   "cell_type": "code",
   "execution_count": 114,
   "id": "aa9306c9-2470-4999-ba70-7c28b371755f",
   "metadata": {},
   "outputs": [],
   "source": [
    "X_train, X_test, y_train, y_test = train_test_split(X, df.Classification, test_size=0.3, random_state=42)"
   ]
  },
  {
   "cell_type": "markdown",
   "id": "f6b80bb1-b280-42fc-ae2d-406cc37bac17",
   "metadata": {},
   "source": [
    "## Part 1.3. Make SVM and test on C=0.001, 0.01, 0.1, 1, 10, 100, 1000"
   ]
  },
  {
   "cell_type": "code",
   "execution_count": 177,
   "id": "068fb651-9289-4e0d-adb3-4380ae8393d3",
   "metadata": {},
   "outputs": [
    {
     "name": "stdout",
     "output_type": "stream",
     "text": [
      "C = 0.001\n",
      "Accuracy for: 0.55\n",
      "Train Accuracy: 0.61\n",
      "Number of support vectors for 2 classes: [194 189]\n",
      "\n",
      "C = 0.01\n",
      "Accuracy for: 0.55\n",
      "Train Accuracy: 0.61\n",
      "Number of support vectors for 2 classes: [239 189]\n",
      "\n",
      "C = 0.1\n",
      "Accuracy for: 0.74\n",
      "Train Accuracy: 0.78\n",
      "Number of support vectors for 2 classes: [245 189]\n",
      "\n",
      "C = 1\n",
      "Accuracy for: 0.92\n",
      "Train Accuracy: 0.99\n",
      "Number of support vectors for 2 classes: [240 120]\n",
      "\n",
      "C = 10\n",
      "Accuracy for: 0.93\n",
      "Train Accuracy: 1.00\n",
      "Number of support vectors for 2 classes: [235 120]\n",
      "\n",
      "C = 100\n",
      "Accuracy for: 0.93\n",
      "Train Accuracy: 1.00\n",
      "Number of support vectors for 2 classes: [235 120]\n",
      "\n",
      "C = 1000\n",
      "Accuracy for: 0.93\n",
      "Train Accuracy: 1.00\n",
      "Number of support vectors for 2 classes: [235 120]\n",
      "\n"
     ]
    }
   ],
   "source": [
    "c_values = [0.001, 0.01, 0.1, 1, 10, 100, 1000]\n",
    "for c in c_values:\n",
    "    svm = SVC(kernel='linear', C=c)\n",
    "    svm.fit(X_train, y_train)\n",
    "\n",
    "    train_accuracy = svm.score(X_train, y_train)\n",
    "    accuracy = svm.score(X_test, y_test)\n",
    "    print(f\"C = {c}\\nAccuracy for: {accuracy:.2f}\\nTrain Accuracy: {train_accuracy:.2f}\")\n",
    "    print(f\"Number of support vectors for 2 classes: {svm.n_support_}\\n\")"
   ]
  },
  {
   "cell_type": "markdown",
   "id": "c477c0b9-36c5-4891-8eb8-87bdaaf613d0",
   "metadata": {},
   "source": [
    "C = 0.001\n",
    "Accuracy for: 0.55\n",
    "Train Accuracy: 0.6142857142857143\n",
    "Number of support vectors for 2 classes: [194 189]\n",
    "\n",
    "C = 0.01\n",
    "Accuracy for: 0.55\n",
    "Train Accuracy: 0.6142857142857143\n",
    "Number of support vectors for 2 classes: [239 189]\n",
    "\n",
    "C = 0.1\n",
    "Accuracy for: 0.74\n",
    "Train Accuracy: 0.7795918367346939\n",
    "Number of support vectors for 2 classes: [245 189]\n",
    "\n",
    "C = 1\n",
    "Accuracy for: 0.92\n",
    "Train Accuracy: 0.9918367346938776\n",
    "Number of support vectors for 2 classes: [240 120]\n",
    "\n",
    "C = 10\n",
    "Accuracy for: 0.93\n",
    "Train Accuracy: 1.0\n",
    "Number of support vectors for 2 classes: [235 120]\n",
    "\n",
    "C = 100\n",
    "Accuracy for: 0.93\n",
    "Train Accuracy: 1.0\n",
    "Number of support vectors for 2 classes: [235 120]\n",
    "\n",
    "C = 1000\n",
    "Accuracy for: 0.93\n",
    "Train Accuracy: 1.0\n",
    "Number of support vectors for 2 classes: [235 120]"
   ]
  },
  {
   "cell_type": "markdown",
   "id": "11970fe9-69f1-418d-9285-0c932a7f047a",
   "metadata": {},
   "source": [
    "## Part 1.4. Different Kernels (RBF, Polynomial)"
   ]
  },
  {
   "cell_type": "code",
   "execution_count": 179,
   "id": "85c43073-ec55-4c95-bbbe-41396b8eb2ea",
   "metadata": {},
   "outputs": [
    {
     "name": "stdout",
     "output_type": "stream",
     "text": [
      "C = 1000\n",
      "Accuracy for: 0.86\n",
      "Train Accuracy: 1.00\n",
      "Number of support vectors for 2 classes: [289 150]\n",
      "\n"
     ]
    }
   ],
   "source": [
    "# Kernels = poly’, ‘rbf\n",
    "# POLY, deg = 1...3\n",
    "# POLY coef0 = -1...1\n",
    "svm = SVC(kernel='poly', C=1, degree=3, coef0=1)\n",
    "svm.fit(X_train, y_train)\n",
    "\n",
    "train_accuracy = svm.score(X_train, y_train)\n",
    "accuracy = svm.score(X_test, y_test)\n",
    "print(f\"C = {c}\\nAccuracy for: {accuracy:.2f}\\nTrain Accuracy: {train_accuracy:.2f}\")\n",
    "print(f\"Number of support vectors for 2 classes: {svm.n_support_}\\n\")"
   ]
  },
  {
   "cell_type": "code",
   "execution_count": 197,
   "id": "202be702-d72f-4471-9985-d4778f7e8299",
   "metadata": {},
   "outputs": [],
   "source": [
    "param_grid = [\n",
    "  {'degree': [1, 2, 3], 'coef0': [-1, 0, +1], 'kernel': ['poly']},\n",
    "  {'gamma': [1, 1/2, 1/4], 'kernel': ['rbf']},\n",
    " ]"
   ]
  },
  {
   "cell_type": "code",
   "execution_count": 199,
   "id": "03f14df1-d777-46da-9b13-58de02875494",
   "metadata": {},
   "outputs": [
    {
     "data": {
      "text/html": [
       "<style>#sk-container-id-3 {color: black;background-color: white;}#sk-container-id-3 pre{padding: 0;}#sk-container-id-3 div.sk-toggleable {background-color: white;}#sk-container-id-3 label.sk-toggleable__label {cursor: pointer;display: block;width: 100%;margin-bottom: 0;padding: 0.3em;box-sizing: border-box;text-align: center;}#sk-container-id-3 label.sk-toggleable__label-arrow:before {content: \"▸\";float: left;margin-right: 0.25em;color: #696969;}#sk-container-id-3 label.sk-toggleable__label-arrow:hover:before {color: black;}#sk-container-id-3 div.sk-estimator:hover label.sk-toggleable__label-arrow:before {color: black;}#sk-container-id-3 div.sk-toggleable__content {max-height: 0;max-width: 0;overflow: hidden;text-align: left;background-color: #f0f8ff;}#sk-container-id-3 div.sk-toggleable__content pre {margin: 0.2em;color: black;border-radius: 0.25em;background-color: #f0f8ff;}#sk-container-id-3 input.sk-toggleable__control:checked~div.sk-toggleable__content {max-height: 200px;max-width: 100%;overflow: auto;}#sk-container-id-3 input.sk-toggleable__control:checked~label.sk-toggleable__label-arrow:before {content: \"▾\";}#sk-container-id-3 div.sk-estimator input.sk-toggleable__control:checked~label.sk-toggleable__label {background-color: #d4ebff;}#sk-container-id-3 div.sk-label input.sk-toggleable__control:checked~label.sk-toggleable__label {background-color: #d4ebff;}#sk-container-id-3 input.sk-hidden--visually {border: 0;clip: rect(1px 1px 1px 1px);clip: rect(1px, 1px, 1px, 1px);height: 1px;margin: -1px;overflow: hidden;padding: 0;position: absolute;width: 1px;}#sk-container-id-3 div.sk-estimator {font-family: monospace;background-color: #f0f8ff;border: 1px dotted black;border-radius: 0.25em;box-sizing: border-box;margin-bottom: 0.5em;}#sk-container-id-3 div.sk-estimator:hover {background-color: #d4ebff;}#sk-container-id-3 div.sk-parallel-item::after {content: \"\";width: 100%;border-bottom: 1px solid gray;flex-grow: 1;}#sk-container-id-3 div.sk-label:hover label.sk-toggleable__label {background-color: #d4ebff;}#sk-container-id-3 div.sk-serial::before {content: \"\";position: absolute;border-left: 1px solid gray;box-sizing: border-box;top: 0;bottom: 0;left: 50%;z-index: 0;}#sk-container-id-3 div.sk-serial {display: flex;flex-direction: column;align-items: center;background-color: white;padding-right: 0.2em;padding-left: 0.2em;position: relative;}#sk-container-id-3 div.sk-item {position: relative;z-index: 1;}#sk-container-id-3 div.sk-parallel {display: flex;align-items: stretch;justify-content: center;background-color: white;position: relative;}#sk-container-id-3 div.sk-item::before, #sk-container-id-3 div.sk-parallel-item::before {content: \"\";position: absolute;border-left: 1px solid gray;box-sizing: border-box;top: 0;bottom: 0;left: 50%;z-index: -1;}#sk-container-id-3 div.sk-parallel-item {display: flex;flex-direction: column;z-index: 1;position: relative;background-color: white;}#sk-container-id-3 div.sk-parallel-item:first-child::after {align-self: flex-end;width: 50%;}#sk-container-id-3 div.sk-parallel-item:last-child::after {align-self: flex-start;width: 50%;}#sk-container-id-3 div.sk-parallel-item:only-child::after {width: 0;}#sk-container-id-3 div.sk-dashed-wrapped {border: 1px dashed gray;margin: 0 0.4em 0.5em 0.4em;box-sizing: border-box;padding-bottom: 0.4em;background-color: white;}#sk-container-id-3 div.sk-label label {font-family: monospace;font-weight: bold;display: inline-block;line-height: 1.2em;}#sk-container-id-3 div.sk-label-container {text-align: center;}#sk-container-id-3 div.sk-container {/* jupyter's `normalize.less` sets `[hidden] { display: none; }` but bootstrap.min.css set `[hidden] { display: none !important; }` so we also need the `!important` here to be able to override the default hidden behavior on the sphinx rendered scikit-learn.org. See: https://github.com/scikit-learn/scikit-learn/issues/21755 */display: inline-block !important;position: relative;}#sk-container-id-3 div.sk-text-repr-fallback {display: none;}</style><div id=\"sk-container-id-3\" class=\"sk-top-container\"><div class=\"sk-text-repr-fallback\"><pre>GridSearchCV(estimator=SVC(),\n",
       "             param_grid=[{&#x27;coef0&#x27;: [-1, 0, 1], &#x27;degree&#x27;: [1, 2, 3],\n",
       "                          &#x27;kernel&#x27;: [&#x27;poly&#x27;]},\n",
       "                         {&#x27;gamma&#x27;: [1, 0.5, 0.25], &#x27;kernel&#x27;: [&#x27;rbf&#x27;]}])</pre><b>In a Jupyter environment, please rerun this cell to show the HTML representation or trust the notebook. <br />On GitHub, the HTML representation is unable to render, please try loading this page with nbviewer.org.</b></div><div class=\"sk-container\" hidden><div class=\"sk-item sk-dashed-wrapped\"><div class=\"sk-label-container\"><div class=\"sk-label sk-toggleable\"><input class=\"sk-toggleable__control sk-hidden--visually\" id=\"sk-estimator-id-5\" type=\"checkbox\" ><label for=\"sk-estimator-id-5\" class=\"sk-toggleable__label sk-toggleable__label-arrow\">GridSearchCV</label><div class=\"sk-toggleable__content\"><pre>GridSearchCV(estimator=SVC(),\n",
       "             param_grid=[{&#x27;coef0&#x27;: [-1, 0, 1], &#x27;degree&#x27;: [1, 2, 3],\n",
       "                          &#x27;kernel&#x27;: [&#x27;poly&#x27;]},\n",
       "                         {&#x27;gamma&#x27;: [1, 0.5, 0.25], &#x27;kernel&#x27;: [&#x27;rbf&#x27;]}])</pre></div></div></div><div class=\"sk-parallel\"><div class=\"sk-parallel-item\"><div class=\"sk-item\"><div class=\"sk-label-container\"><div class=\"sk-label sk-toggleable\"><input class=\"sk-toggleable__control sk-hidden--visually\" id=\"sk-estimator-id-6\" type=\"checkbox\" ><label for=\"sk-estimator-id-6\" class=\"sk-toggleable__label sk-toggleable__label-arrow\">estimator: SVC</label><div class=\"sk-toggleable__content\"><pre>SVC()</pre></div></div></div><div class=\"sk-serial\"><div class=\"sk-item\"><div class=\"sk-estimator sk-toggleable\"><input class=\"sk-toggleable__control sk-hidden--visually\" id=\"sk-estimator-id-7\" type=\"checkbox\" ><label for=\"sk-estimator-id-7\" class=\"sk-toggleable__label sk-toggleable__label-arrow\">SVC</label><div class=\"sk-toggleable__content\"><pre>SVC()</pre></div></div></div></div></div></div></div></div></div></div>"
      ],
      "text/plain": [
       "GridSearchCV(estimator=SVC(),\n",
       "             param_grid=[{'coef0': [-1, 0, 1], 'degree': [1, 2, 3],\n",
       "                          'kernel': ['poly']},\n",
       "                         {'gamma': [1, 0.5, 0.25], 'kernel': ['rbf']}])"
      ]
     },
     "execution_count": 199,
     "metadata": {},
     "output_type": "execute_result"
    }
   ],
   "source": [
    "grid_svc = SVC()\n",
    "clf = GridSearchCV(grid_svc, param_grid)\n",
    "clf.fit(X_train, y_train)"
   ]
  },
  {
   "cell_type": "code",
   "execution_count": 200,
   "id": "fae95e0e-58c5-443f-90a7-29ac9d8e3a91",
   "metadata": {},
   "outputs": [
    {
     "data": {
      "text/plain": [
       "{'mean_fit_time': array([0.19445763, 0.14524951, 0.11818414, 0.1925343 , 0.1964663 ,\n",
       "        0.19721055, 0.19181175, 0.19651108, 0.19832606, 0.19709172,\n",
       "        0.19648056, 0.18502688]),\n",
       " 'std_fit_time': array([0.00411593, 0.00419012, 0.0026259 , 0.00142559, 0.00321449,\n",
       "        0.00280835, 0.00177508, 0.00347063, 0.00391681, 0.00327913,\n",
       "        0.00303065, 0.00732516]),\n",
       " 'mean_score_time': array([0.03916111, 0.03469191, 0.02717614, 0.03905201, 0.0456717 ,\n",
       "        0.04678345, 0.03889184, 0.04053326, 0.04414372, 0.04214368,\n",
       "        0.04068661, 0.04129553]),\n",
       " 'std_score_time': array([0.00147129, 0.00056325, 0.00096088, 0.00138378, 0.00108942,\n",
       "        0.00109869, 0.00142272, 0.0013501 , 0.00455526, 0.00108938,\n",
       "        0.00080708, 0.00143554]),\n",
       " 'param_coef0': masked_array(data=[-1, -1, -1, 0, 0, 0, 1, 1, 1, --, --, --],\n",
       "              mask=[False, False, False, False, False, False, False, False,\n",
       "                    False,  True,  True,  True],\n",
       "        fill_value='?',\n",
       "             dtype=object),\n",
       " 'param_degree': masked_array(data=[1, 2, 3, 1, 2, 3, 1, 2, 3, --, --, --],\n",
       "              mask=[False, False, False, False, False, False, False, False,\n",
       "                    False,  True,  True,  True],\n",
       "        fill_value='?',\n",
       "             dtype=object),\n",
       " 'param_kernel': masked_array(data=['poly', 'poly', 'poly', 'poly', 'poly', 'poly', 'poly',\n",
       "                    'poly', 'poly', 'rbf', 'rbf', 'rbf'],\n",
       "              mask=[False, False, False, False, False, False, False, False,\n",
       "                    False, False, False, False],\n",
       "        fill_value='?',\n",
       "             dtype=object),\n",
       " 'param_gamma': masked_array(data=[--, --, --, --, --, --, --, --, --, 1, 0.5, 0.25],\n",
       "              mask=[ True,  True,  True,  True,  True,  True,  True,  True,\n",
       "                     True, False, False, False],\n",
       "        fill_value='?',\n",
       "             dtype=object),\n",
       " 'params': [{'coef0': -1, 'degree': 1, 'kernel': 'poly'},\n",
       "  {'coef0': -1, 'degree': 2, 'kernel': 'poly'},\n",
       "  {'coef0': -1, 'degree': 3, 'kernel': 'poly'},\n",
       "  {'coef0': 0, 'degree': 1, 'kernel': 'poly'},\n",
       "  {'coef0': 0, 'degree': 2, 'kernel': 'poly'},\n",
       "  {'coef0': 0, 'degree': 3, 'kernel': 'poly'},\n",
       "  {'coef0': 1, 'degree': 1, 'kernel': 'poly'},\n",
       "  {'coef0': 1, 'degree': 2, 'kernel': 'poly'},\n",
       "  {'coef0': 1, 'degree': 3, 'kernel': 'poly'},\n",
       "  {'gamma': 1, 'kernel': 'rbf'},\n",
       "  {'gamma': 0.5, 'kernel': 'rbf'},\n",
       "  {'gamma': 0.25, 'kernel': 'rbf'}],\n",
       " 'split0_test_score': array([0.91836735, 0.41836735, 0.90816327, 0.91836735, 0.89795918,\n",
       "        0.85714286, 0.91836735, 0.91836735, 0.90816327, 0.90816327,\n",
       "        0.89795918, 0.8877551 ]),\n",
       " 'split1_test_score': array([0.93877551, 0.29591837, 0.91836735, 0.93877551, 0.86734694,\n",
       "        0.84693878, 0.93877551, 0.93877551, 0.90816327, 0.87755102,\n",
       "        0.8877551 , 0.85714286]),\n",
       " 'split2_test_score': array([0.92857143, 0.43877551, 0.8877551 , 0.92857143, 0.90816327,\n",
       "        0.89795918, 0.92857143, 0.92857143, 0.92857143, 0.91836735,\n",
       "        0.90816327, 0.89795918]),\n",
       " 'split3_test_score': array([0.8877551 , 0.42857143, 0.85714286, 0.8877551 , 0.83673469,\n",
       "        0.81632653, 0.8877551 , 0.89795918, 0.89795918, 0.86734694,\n",
       "        0.86734694, 0.83673469]),\n",
       " 'split4_test_score': array([0.93877551, 0.45918367, 0.94897959, 0.93877551, 0.89795918,\n",
       "        0.86734694, 0.93877551, 0.94897959, 0.91836735, 0.91836735,\n",
       "        0.90816327, 0.86734694]),\n",
       " 'mean_test_score': array([0.92244898, 0.40816327, 0.90408163, 0.92244898, 0.88163265,\n",
       "        0.85714286, 0.92244898, 0.92653061, 0.9122449 , 0.89795918,\n",
       "        0.89387755, 0.86938776]),\n",
       " 'std_test_score': array([0.01892575, 0.057723  , 0.0306802 , 0.01892575, 0.02629408,\n",
       "        0.02660899, 0.01892575, 0.01755577, 0.01040616, 0.02140426,\n",
       "        0.01527207, 0.02178996]),\n",
       " 'rank_test_score': array([ 2, 12,  6,  2,  9, 11,  2,  1,  5,  7,  8, 10], dtype=int32)}"
      ]
     },
     "execution_count": 200,
     "metadata": {},
     "output_type": "execute_result"
    }
   ],
   "source": [
    "clf.cv_results_\n",
    "# mean_score_time"
   ]
  },
  {
   "cell_type": "code",
   "execution_count": 3,
   "id": "81c6c8dd-3b15-4847-ac51-4a97b0fe33ee",
   "metadata": {},
   "outputs": [],
   "source": [
    "  # 'coef0': -1, 'degree': 1 = 0.92\n",
    "  # 'coef0': -1, 'degree': 2 = 0.40\n",
    "  # 'coef0': -1, 'degree': 3 = 0.90\n",
    "  # 'coef0': 0, 'degree': 1 =  0.92\n",
    "  # 'coef0': 0, 'degree': 2 =  0.88\n",
    "  # 'coef0': 0, 'degree': 3 =  0.85\n",
    "  # 'coef0': 1, 'degree': 1 =  0.92\n",
    "  # 'coef0': 1, 'degree': 2 =  0.92\n",
    "  # 'coef0': 1, 'degree': 3 =  0.91\n",
    "  # 'gamma': 1 =               0.89\n",
    "  # 'gamma': 0.5 =             0.89\n",
    "  # 'gamma': 0.25 =            0.86"
   ]
  },
  {
   "cell_type": "code",
   "execution_count": null,
   "id": "2a85c693-56bd-4d51-9fd6-c0bc9aabc53e",
   "metadata": {},
   "outputs": [],
   "source": []
  }
 ],
 "metadata": {
  "kernelspec": {
   "display_name": "Python 3 (ipykernel)",
   "language": "python",
   "name": "python3"
  },
  "language_info": {
   "codemirror_mode": {
    "name": "ipython",
    "version": 3
   },
   "file_extension": ".py",
   "mimetype": "text/x-python",
   "name": "python",
   "nbconvert_exporter": "python",
   "pygments_lexer": "ipython3",
   "version": "3.11.7"
  }
 },
 "nbformat": 4,
 "nbformat_minor": 5
}
