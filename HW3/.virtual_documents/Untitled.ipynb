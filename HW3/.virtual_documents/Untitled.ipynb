import pandas as pd
import numpy as np
from sklearn.datasets import load_iris


df = load_iris(as_frame=True)


df = pd.DataFrame(df['frame'])


df.head()





OneVsRestClassifier?


df.columns





from sklearn.multiclass import OneVsRestClassifier, OneVsOneClassifier
from sklearn.svm import SVC

# By default the Sci-Kit Learn library provides a OVO classifier
# when we use SVM Classifier. But I am going to use the one 
# from sklearn multiclass.

model = SVC(kernel='linear')
ovr_svm = OneVsRestClassifier(model)
ovr_svm.fit(df.drop('target', axis=1), df.target)
ovr_svm.score(df.drop('target', axis=1), df.target)





model = SVC(kernel='linear')
ovr_svm = OneVsOneClassifier(model)
ovr_svm.fit(df.drop('target', axis=1), df.target)
ovr_svm.score(df.drop('target', axis=1), df.target)





model = SVC(kernel='rbf')
ovr_svm = OneVsOneClassifier(model)
ovr_svm.fit(df.drop('target', axis=1), df.target)
ovr_svm.score(df.drop('target', axis=1), df.target)





model = SVC(kernel='poly', degree=3)
ovr_svm = OneVsOneClassifier(model)
ovr_svm.fit(df.drop('target', axis=1), df.target)
ovr_svm.score(df.drop('target', axis=1), df.target)



