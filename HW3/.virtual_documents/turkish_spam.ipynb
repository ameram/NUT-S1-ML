


import numpy as np
import pandas as pd
import nltk
from nltk.corpus import stopwords
from sklearn.feature_extraction.text import TfidfVectorizer
from sklearn.svm import SVC
from sklearn.model_selection import train_test_split, GridSearchCV


df = pd.read_csv('trspam.csv', on_bad_lines='skip')
df.head(10)


df.info()


pd.unique(df['Classification'])


df = df.dropna(axis=0)


df.shape[0] * .7
# We keep 490 rows for training and remaining 230 for testing.


train, test = train_test_split(df, test_size = 0.3, random_state=1)





stop_words = list(stopwords.words('turkish'))
stop_words


vectorizer = TfidfVectorizer(stop_words=stop_words)
X = vectorizer.fit_transform(df.Text)


X_train, X_test, y_train, y_test = train_test_split(X, df.Classification, test_size=0.3, random_state=42)





c_values = [0.001, 0.01, 0.1, 1, 10, 100, 1000]
for c in c_values:
    svm = SVC(kernel='linear', C=c)
    svm.fit(X_train, y_train)

    train_accuracy = svm.score(X_train, y_train)
    accuracy = svm.score(X_test, y_test)
    print(f"C = {c}\nAccuracy for: {accuracy:.2f}\nTrain Accuracy: {train_accuracy:.2f}")
    print(f"Number of support vectors for 2 classes: {svm.n_support_}\n")








# Kernels = poly’, ‘rbf
# POLY, deg = 1...3
# POLY coef0 = -1...1
svm = SVC(kernel='poly', C=1, degree=3, coef0=1)
svm.fit(X_train, y_train)

train_accuracy = svm.score(X_train, y_train)
accuracy = svm.score(X_test, y_test)
print(f"C = {c}\nAccuracy for: {accuracy:.2f}\nTrain Accuracy: {train_accuracy:.2f}")
print(f"Number of support vectors for 2 classes: {svm.n_support_}\n")


param_grid = [
  {'degree': [1, 2, 3], 'coef0': [-1, 0, +1], 'kernel': ['poly']},
  {'gamma': [1, 1/2, 1/4], 'kernel': ['rbf']},
 ]


grid_svc = SVC()
clf = GridSearchCV(grid_svc, param_grid)
clf.fit(X_train, y_train)


clf.cv_results_
# mean_score_time


  # 'coef0': -1, 'degree': 1 = 0.92
  # 'coef0': -1, 'degree': 2 = 0.40
  # 'coef0': -1, 'degree': 3 = 0.90
  # 'coef0': 0, 'degree': 1 =  0.92
  # 'coef0': 0, 'degree': 2 =  0.88
  # 'coef0': 0, 'degree': 3 =  0.85
  # 'coef0': 1, 'degree': 1 =  0.92
  # 'coef0': 1, 'degree': 2 =  0.92
  # 'coef0': 1, 'degree': 3 =  0.91
  # 'gamma': 1 =               0.89
  # 'gamma': 0.5 =             0.89
  # 'gamma': 0.25 =            0.86



