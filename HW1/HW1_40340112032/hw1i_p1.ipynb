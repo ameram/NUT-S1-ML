{
 "cells": [
  {
   "cell_type": "code",
   "execution_count": 115,
   "id": "d6938fce-6ab0-46ab-b740-cd3b828867c1",
   "metadata": {},
   "outputs": [],
   "source": [
    "import numpy as np\n",
    "import pandas as pd\n",
    "import sklearn as sk\n",
    "from sklearn.datasets import load_digits\n",
    "from sklearn.model_selection import train_test_split\n",
    "import keras"
   ]
  },
  {
   "cell_type": "code",
   "execution_count": 99,
   "id": "741b64eb-108b-487f-afda-07e3cf4cc9dd",
   "metadata": {},
   "outputs": [],
   "source": [
    "# PART 2\n",
    "df = keras.datasets.mnist.load_data(path=\"mnist.npz\")"
   ]
  },
  {
   "cell_type": "code",
   "execution_count": 101,
   "id": "25d2f684-645d-41c6-9169-f8f1466d1cb3",
   "metadata": {},
   "outputs": [],
   "source": [
    "# PART 3\n",
    "train, test = df[0], df[1]"
   ]
  },
  {
   "cell_type": "code",
   "execution_count": 103,
   "id": "47d593bc-1849-4897-a9ed-4ed02cf86ad4",
   "metadata": {},
   "outputs": [],
   "source": [
    "train_x, train_y = train[0], train[1]"
   ]
  },
  {
   "cell_type": "code",
   "execution_count": 105,
   "id": "66a1f5f4-9a01-4b65-885b-40b87a640e5c",
   "metadata": {},
   "outputs": [],
   "source": [
    "test_x, test_y = test[0], test[1]"
   ]
  },
  {
   "cell_type": "code",
   "execution_count": 109,
   "id": "f2c01d4e-bdcf-4ae2-84c1-2c2d9984f7dd",
   "metadata": {},
   "outputs": [],
   "source": [
    "train_x = train_x.reshape(-1, 784)\n",
    "test_x = test_x.reshape(-1, 784)"
   ]
  },
  {
   "cell_type": "code",
   "execution_count": 113,
   "id": "ffa4d28c-6839-410f-af1b-4babdf3bf372",
   "metadata": {},
   "outputs": [
    {
     "name": "stdout",
     "output_type": "stream",
     "text": [
      "(60000, 784)\n",
      "(10000, 784)\n"
     ]
    }
   ],
   "source": [
    "print(train_x.shape)\n",
    "print(test_x.shape)"
   ]
  },
  {
   "cell_type": "code",
   "execution_count": 124,
   "id": "9f9c7ca1-d510-47f1-9514-2ddd57eb0519",
   "metadata": {},
   "outputs": [],
   "source": [
    "train_x, cv_x, train_y, cv_y = train_test_split(train_x, train_y, test_size = 6000)"
   ]
  },
  {
   "cell_type": "code",
   "execution_count": 134,
   "id": "1ed2967a-acb8-45cd-955a-b7b319fbae60",
   "metadata": {},
   "outputs": [
    {
     "name": "stdout",
     "output_type": "stream",
     "text": [
      "Train: 54000 - Cross Validation: 6000\n"
     ]
    }
   ],
   "source": [
    "print(f'Train: {len(train_x)} - Cross Validation: {len(cv_x)}')"
   ]
  },
  {
   "cell_type": "code",
   "execution_count": 750,
   "id": "107fdf74-0ae1-4821-86da-15f7d7f7fcb1",
   "metadata": {},
   "outputs": [],
   "source": [
    "# Part 4\n",
    "def custom_knn(train_x, train_y, test_point, k=3, kind='euclidean'):\n",
    "    if kind == 'manhattan':\n",
    "        f = np.sum(np.abs(train_x - test_point), axis=1)\n",
    "    else:\n",
    "        f = np.sqrt(np.sum(np.power(train_x - test_point, 2), axis =1))\n",
    "\n",
    "    distances = np.stack((f, train_y), axis=1)\n",
    "    dist_df = pd.DataFrame(distances, columns=['Distance', 'Label'])\n",
    "    common = pd.value_counts(dist_df.sort_values(by='Distance')[:k]['Label']).index[0]\n",
    "    return int(common)"
   ]
  },
  {
   "cell_type": "code",
   "execution_count": 752,
   "id": "51996c2a-914f-4a7c-b3b9-0d06f3bd9e6a",
   "metadata": {},
   "outputs": [
    {
     "data": {
      "text/plain": [
       "3"
      ]
     },
     "execution_count": 752,
     "metadata": {},
     "output_type": "execute_result"
    }
   ],
   "source": [
    "custom_knn(train_x, train_y, test_x[9], k=3)"
   ]
  },
  {
   "cell_type": "code",
   "execution_count": 754,
   "id": "c10bf4a6-31a4-42bb-b4fc-e4bdaed4a768",
   "metadata": {},
   "outputs": [
    {
     "data": {
      "text/plain": [
       "7"
      ]
     },
     "execution_count": 754,
     "metadata": {},
     "output_type": "execute_result"
    }
   ],
   "source": [
    "custom_knn(train_x, train_y, test_x[9], k=3, kind='manhattan')"
   ]
  },
  {
   "cell_type": "code",
   "execution_count": 758,
   "id": "cac11440-35df-4a3d-998a-76e827bb0b26",
   "metadata": {},
   "outputs": [],
   "source": [
    "def knn_predict(test_items, k=3, kind='euclidean'):\n",
    "    preds = []\n",
    "    for i in test_items:\n",
    "        preds.append(custom_knn(train_x, train_y, i, k=k, kind=kind))\n",
    "    return preds"
   ]
  },
  {
   "cell_type": "code",
   "execution_count": 766,
   "id": "c876b1c7-7e79-40d3-8c7c-8a5fe5d9aadb",
   "metadata": {},
   "outputs": [],
   "source": [
    "def get_accuracy(test_x, test_y, k=3, kind='euclidean'):\n",
    "    preds = knn_predict(test_x, k=k, kind=kind)\n",
    "    err = np.sum(preds - test_y != 0)/len(preds)\n",
    "    return (1-err)*100"
   ]
  },
  {
   "cell_type": "code",
   "execution_count": null,
   "id": "91e39c51-112d-405c-be47-1c8f558242f8",
   "metadata": {},
   "outputs": [],
   "source": []
  },
  {
   "cell_type": "code",
   "execution_count": 798,
   "id": "7767452e-8b4f-4e13-95e0-1ec5fb926c6e",
   "metadata": {
    "scrolled": true
   },
   "outputs": [
    {
     "name": "stdout",
     "output_type": "stream",
     "text": [
      "For K=2 we get: 25.6\n",
      "For K=4 we get: 28.000000000000004\n",
      "For K=6 we get: 28.800000000000004\n",
      "For K=8 we get: 30.000000000000004\n",
      "For K=10 we get: 30.200000000000003\n"
     ]
    }
   ],
   "source": [
    "# Part 5\n",
    "for i in range(2, 11, 2):\n",
    "    acc = get_accuracy(test_x[:500], test_y[:500], k=i)\n",
    "    print(f'For K={i} we get: {acc}')"
   ]
  },
  {
   "cell_type": "code",
   "execution_count": 773,
   "id": "9c3678ef-e056-4fe6-bb24-b14af92255b5",
   "metadata": {},
   "outputs": [
    {
     "name": "stdout",
     "output_type": "stream",
     "text": [
      "For K=2 we get: 46.599999999999994\n",
      "For K=4 we get: 41.6\n",
      "For K=6 we get: 38.2\n",
      "For K=8 we get: 36.4\n",
      "For K=10 we get: 34.0\n"
     ]
    }
   ],
   "source": [
    "# Part 6\n",
    "for i in range(2, 11, 2):\n",
    "    acc = get_accuracy(test_x[:500], test_y[:500], k=i, kind='manhattan')\n",
    "    print(f'For K={i} we get: {acc}')"
   ]
  },
  {
   "cell_type": "code",
   "execution_count": 802,
   "id": "4a6d1b26-f16f-4dd6-b49e-b3b211417acc",
   "metadata": {},
   "outputs": [
    {
     "data": {
      "text/plain": [
       "0.9693"
      ]
     },
     "execution_count": 802,
     "metadata": {},
     "output_type": "execute_result"
    }
   ],
   "source": [
    "# Final part\n",
    "from sklearn.neighbors import KNeighborsClassifier\n",
    "clf = KNeighborsClassifier(n_neighbors=3)\n",
    "clf.fit(train_x, train_y)\n"
   ]
  },
  {
   "cell_type": "code",
   "execution_count": 806,
   "id": "30cf5b00-7dd0-419d-bdec-9fff27a8ef76",
   "metadata": {},
   "outputs": [
    {
     "data": {
      "text/plain": [
       "96.93"
      ]
     },
     "execution_count": 806,
     "metadata": {},
     "output_type": "execute_result"
    }
   ],
   "source": [
    "clf.score(test_x, test_y) * 100"
   ]
  },
  {
   "cell_type": "code",
   "execution_count": null,
   "id": "a201fc34-7495-4238-a1f9-c7ef33ab8aeb",
   "metadata": {},
   "outputs": [],
   "source": []
  }
 ],
 "metadata": {
  "kernelspec": {
   "display_name": "Python 3 (ipykernel)",
   "language": "python",
   "name": "python3"
  },
  "language_info": {
   "codemirror_mode": {
    "name": "ipython",
    "version": 3
   },
   "file_extension": ".py",
   "mimetype": "text/x-python",
   "name": "python",
   "nbconvert_exporter": "python",
   "pygments_lexer": "ipython3",
   "version": "3.11.10"
  }
 },
 "nbformat": 4,
 "nbformat_minor": 5
}
