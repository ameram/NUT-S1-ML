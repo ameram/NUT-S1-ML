{
 "cells": [
  {
   "cell_type": "code",
   "execution_count": 360,
   "id": "8f9da454-4cda-4242-9345-d598e1a7f3aa",
   "metadata": {},
   "outputs": [],
   "source": [
    "from sklearn import datasets\n",
    "import numpy as np\n",
    "import pandas as pd\n",
    "import matplotlib.pyplot as plt\n",
    "\n",
    "iris = datasets.load_iris()"
   ]
  },
  {
   "cell_type": "code",
   "execution_count": 23,
   "id": "53321352-35e2-4981-9013-8d64b3961835",
   "metadata": {
    "scrolled": true
   },
   "outputs": [
    {
     "data": {
      "text/plain": [
       "(150, 4)"
      ]
     },
     "execution_count": 23,
     "metadata": {},
     "output_type": "execute_result"
    }
   ],
   "source": [
    "iris.data.shape"
   ]
  },
  {
   "cell_type": "markdown",
   "id": "44a514b3-ff1d-4c61-a788-c44cb6063ac4",
   "metadata": {},
   "source": [
    "### Labels\n",
    "* Setosa\n",
    "* Versicolour\n",
    "* Virginica\n",
    "\n",
    "### Features\n",
    "* Sepal Length\n",
    "* Sepal Width\n",
    "* Petal Length\n",
    "* Petal Width"
   ]
  },
  {
   "cell_type": "markdown",
   "id": "383cc4a3-6866-493f-bc7f-4d54ff0d421b",
   "metadata": {},
   "source": [
    "## PT 1 - Select 30 random for test and rest for training."
   ]
  },
  {
   "cell_type": "code",
   "execution_count": 313,
   "id": "3e273333-0970-411c-bcc0-a4bb2b3573f3",
   "metadata": {
    "scrolled": true
   },
   "outputs": [
    {
     "data": {
      "text/plain": [
       "30"
      ]
     },
     "execution_count": 313,
     "metadata": {},
     "output_type": "execute_result"
    }
   ],
   "source": [
    "test_indicies = np.random.choice(150, size = 30, replace = False)\n",
    "test_indicies\n",
    "len(set(test_indicies))\n",
    "\n",
    "# random.randint doesn't work. It is with replacement."
   ]
  },
  {
   "cell_type": "code",
   "execution_count": 336,
   "id": "61392c37-8d0d-4fdb-ba0e-b41a89be312f",
   "metadata": {},
   "outputs": [
    {
     "name": "stdout",
     "output_type": "stream",
     "text": [
      "(120, 4) (30, 4)\n",
      "(120,) (30,)\n"
     ]
    }
   ],
   "source": [
    "idx = np.zeros(iris.data.shape[0])\n",
    "idx[test_indicies] = 1\n",
    "len(test_indicies)\n",
    "X_test = iris.data[idx == 0]\n",
    "X_train = iris.data[idx == 1]\n",
    "\n",
    "Y_test = iris.target[idx == 0]\n",
    "Y_train = iris.target[idx == 1]\n",
    "print(X_test.shape, X_train.shape)\n",
    "print(Y_test.shape, Y_train.shape)"
   ]
  },
  {
   "cell_type": "markdown",
   "id": "41da475f-38b2-4d5a-b0de-24db01dc83eb",
   "metadata": {},
   "source": [
    "## PT 2 - Scatter plot"
   ]
  },
  {
   "cell_type": "code",
   "execution_count": 338,
   "id": "6c66fff1-55fd-486b-bc20-fd0c89bd8624",
   "metadata": {
    "scrolled": true
   },
   "outputs": [
    {
     "data": {
      "text/plain": [
       "array([[5. , 3.6, 1.4, 0.2],\n",
       "       [4.6, 3.4, 1.4, 0.3],\n",
       "       [5. , 3.4, 1.5, 0.2],\n",
       "       [5.4, 3.7, 1.5, 0.2],\n",
       "       [5.7, 4.4, 1.5, 0.4],\n",
       "       [5.4, 3.9, 1.3, 0.4],\n",
       "       [5.1, 3.7, 1.5, 0.4],\n",
       "       [4.8, 3.4, 1.9, 0.2],\n",
       "       [4.7, 3.2, 1.6, 0.2],\n",
       "       [5.2, 4.1, 1.5, 0.1],\n",
       "       [5.5, 4.2, 1.4, 0.2],\n",
       "       [5.5, 3.5, 1.3, 0.2],\n",
       "       [4.4, 3.2, 1.3, 0.2],\n",
       "       [6.9, 3.1, 4.9, 1.5],\n",
       "       [5.5, 2.3, 4. , 1.3],\n",
       "       [6.3, 3.3, 4.7, 1.6],\n",
       "       [5. , 2. , 3.5, 1. ],\n",
       "       [6.7, 3.1, 4.4, 1.4],\n",
       "       [5.6, 3. , 4.5, 1.5],\n",
       "       [6.4, 2.9, 4.3, 1.3],\n",
       "       [6.8, 2.8, 4.8, 1.4],\n",
       "       [5.5, 2.4, 3.7, 1. ],\n",
       "       [6.3, 2.3, 4.4, 1.3],\n",
       "       [6.2, 2.9, 4.3, 1.3],\n",
       "       [4.9, 2.5, 4.5, 1.7],\n",
       "       [7.2, 3.6, 6.1, 2.5],\n",
       "       [6.9, 3.2, 5.7, 2.3],\n",
       "       [7.9, 3.8, 6.4, 2. ],\n",
       "       [6.1, 2.6, 5.6, 1.4],\n",
       "       [6.3, 3.4, 5.6, 2.4]])"
      ]
     },
     "execution_count": 338,
     "metadata": {},
     "output_type": "execute_result"
    }
   ],
   "source": [
    "train_data"
   ]
  },
  {
   "cell_type": "code",
   "execution_count": 358,
   "id": "01c9f1f0-ec3d-4d87-a00c-6f4019511fb0",
   "metadata": {},
   "outputs": [
    {
     "data": {
      "image/png": "[encoded data removed]",
      "text/plain": [
       "<Figure size 640x480 with 1 Axes>"
      ]
     },
     "metadata": {},
     "output_type": "display_data"
    }
   ],
   "source": [
    "fig, ax = plt.subplots()\n",
    "scatter = ax.scatter(X_train[:, 0], X_train[:, 1], c=Y_train)\n",
    "ax.set(xlabel='Sepal Length', ylabel='Sepal Width');"
   ]
  },
  {
   "cell_type": "markdown",
   "id": "0a1adcc7-e099-4736-80b2-896132ac07e4",
   "metadata": {},
   "source": [
    "## PT 4 - Decision Tree Classifier Implementataion"
   ]
  },
  {
   "cell_type": "code",
   "execution_count": 363,
   "id": "926ff328-015a-4435-92be-03e4d25c36c8",
   "metadata": {},
   "outputs": [
    {
     "data": {
      "text/html": [
       "<style>#sk-container-id-1 {color: black;background-color: white;}#sk-container-id-1 pre{padding: 0;}#sk-container-id-1 div.sk-toggleable {background-color: white;}#sk-container-id-1 label.sk-toggleable__label {cursor: pointer;display: block;width: 100%;margin-bottom: 0;padding: 0.3em;box-sizing: border-box;text-align: center;}#sk-container-id-1 label.sk-toggleable__label-arrow:before {content: \"▸\";float: left;margin-right: 0.25em;color: #696969;}#sk-container-id-1 label.sk-toggleable__label-arrow:hover:before {color: black;}#sk-container-id-1 div.sk-estimator:hover label.sk-toggleable__label-arrow:before {color: black;}#sk-container-id-1 div.sk-toggleable__content {max-height: 0;max-width: 0;overflow: hidden;text-align: left;background-color: #f0f8ff;}#sk-container-id-1 div.sk-toggleable__content pre {margin: 0.2em;color: black;border-radius: 0.25em;background-color: #f0f8ff;}#sk-container-id-1 input.sk-toggleable__control:checked~div.sk-toggleable__content {max-height: 200px;max-width: 100%;overflow: auto;}#sk-container-id-1 input.sk-toggleable__control:checked~label.sk-toggleable__label-arrow:before {content: \"▾\";}#sk-container-id-1 div.sk-estimator input.sk-toggleable__control:checked~label.sk-toggleable__label {background-color: #d4ebff;}#sk-container-id-1 div.sk-label input.sk-toggleable__control:checked~label.sk-toggleable__label {background-color: #d4ebff;}#sk-container-id-1 input.sk-hidden--visually {border: 0;clip: rect(1px 1px 1px 1px);clip: rect(1px, 1px, 1px, 1px);height: 1px;margin: -1px;overflow: hidden;padding: 0;position: absolute;width: 1px;}#sk-container-id-1 div.sk-estimator {font-family: monospace;background-color: #f0f8ff;border: 1px dotted black;border-radius: 0.25em;box-sizing: border-box;margin-bottom: 0.5em;}#sk-container-id-1 div.sk-estimator:hover {background-color: #d4ebff;}#sk-container-id-1 div.sk-parallel-item::after {content: \"\";width: 100%;border-bottom: 1px solid gray;flex-grow: 1;}#sk-container-id-1 div.sk-label:hover label.sk-toggleable__label {background-color: #d4ebff;}#sk-container-id-1 div.sk-serial::before {content: \"\";position: absolute;border-left: 1px solid gray;box-sizing: border-box;top: 0;bottom: 0;left: 50%;z-index: 0;}#sk-container-id-1 div.sk-serial {display: flex;flex-direction: column;align-items: center;background-color: white;padding-right: 0.2em;padding-left: 0.2em;position: relative;}#sk-container-id-1 div.sk-item {position: relative;z-index: 1;}#sk-container-id-1 div.sk-parallel {display: flex;align-items: stretch;justify-content: center;background-color: white;position: relative;}#sk-container-id-1 div.sk-item::before, #sk-container-id-1 div.sk-parallel-item::before {content: \"\";position: absolute;border-left: 1px solid gray;box-sizing: border-box;top: 0;bottom: 0;left: 50%;z-index: -1;}#sk-container-id-1 div.sk-parallel-item {display: flex;flex-direction: column;z-index: 1;position: relative;background-color: white;}#sk-container-id-1 div.sk-parallel-item:first-child::after {align-self: flex-end;width: 50%;}#sk-container-id-1 div.sk-parallel-item:last-child::after {align-self: flex-start;width: 50%;}#sk-container-id-1 div.sk-parallel-item:only-child::after {width: 0;}#sk-container-id-1 div.sk-dashed-wrapped {border: 1px dashed gray;margin: 0 0.4em 0.5em 0.4em;box-sizing: border-box;padding-bottom: 0.4em;background-color: white;}#sk-container-id-1 div.sk-label label {font-family: monospace;font-weight: bold;display: inline-block;line-height: 1.2em;}#sk-container-id-1 div.sk-label-container {text-align: center;}#sk-container-id-1 div.sk-container {/* jupyter's `normalize.less` sets `[hidden] { display: none; }` but bootstrap.min.css set `[hidden] { display: none !important; }` so we also need the `!important` here to be able to override the default hidden behavior on the sphinx rendered scikit-learn.org. See: https://github.com/scikit-learn/scikit-learn/issues/21755 */display: inline-block !important;position: relative;}#sk-container-id-1 div.sk-text-repr-fallback {display: none;}</style><div id=\"sk-container-id-1\" class=\"sk-top-container\"><div class=\"sk-text-repr-fallback\"><pre>DecisionTreeClassifier(random_state=9)</pre><b>In a Jupyter environment, please rerun this cell to show the HTML representation or trust the notebook. <br />On GitHub, the HTML representation is unable to render, please try loading this page with nbviewer.org.</b></div><div class=\"sk-container\" hidden><div class=\"sk-item\"><div class=\"sk-estimator sk-toggleable\"><input class=\"sk-toggleable__control sk-hidden--visually\" id=\"sk-estimator-id-1\" type=\"checkbox\" checked><label for=\"sk-estimator-id-1\" class=\"sk-toggleable__label sk-toggleable__label-arrow\">DecisionTreeClassifier</label><div class=\"sk-toggleable__content\"><pre>DecisionTreeClassifier(random_state=9)</pre></div></div></div></div></div>"
      ],
      "text/plain": [
       "DecisionTreeClassifier(random_state=9)"
      ]
     },
     "execution_count": 363,
     "metadata": {},
     "output_type": "execute_result"
    }
   ],
   "source": [
    "from sklearn.tree import DecisionTreeClassifier\n",
    "dtc = DecisionTreeClassifier(random_state=9)\n",
    "dtc.fit(X_train, Y_train)"
   ]
  },
  {
   "cell_type": "code",
   "execution_count": 401,
   "id": "ba819d5e-28a7-44a0-ba46-c2159dbbb077",
   "metadata": {},
   "outputs": [
    {
     "data": {
      "text/plain": [
       "96.66666666666667"
      ]
     },
     "execution_count": 401,
     "metadata": {},
     "output_type": "execute_result"
    }
   ],
   "source": [
    "pred = dtc.predict(X_test)\n",
    "acc_train = 100 - (np.sum(pred!=Y_test)/len(pred))* 100\n",
    "acc_train\n",
    "\n",
    "# acc_train = 96.6%"
   ]
  },
  {
   "cell_type": "code",
   "execution_count": 407,
   "id": "b7cf7a94-af31-4f24-a26d-d2f3ed07393d",
   "metadata": {
    "scrolled": true
   },
   "outputs": [
    {
     "data": {
      "text/plain": [
       "93.33333333333333"
      ]
     },
     "execution_count": 407,
     "metadata": {},
     "output_type": "execute_result"
    }
   ],
   "source": [
    "dtc = DecisionTreeClassifier(random_state=9)\n",
    "dtc.fit(X_test, Y_test)\n",
    "pred = dtc.predict(X_train)\n",
    "acc_test = 100 - (np.sum(pred!=Y_train)/len(pred))* 100\n",
    "acc_test\n",
    "\n",
    "# acc_test = 93.3%"
   ]
  },
  {
   "cell_type": "code",
   "execution_count": null,
   "id": "8fc64a05-be0e-49a8-bb89-0b251ae24f7d",
   "metadata": {},
   "outputs": [],
   "source": [
    "# It doesn't really matter."
   ]
  },
  {
   "cell_type": "markdown",
   "id": "a5d828af-9a0e-4f0a-b83e-5829e1a949e6",
   "metadata": {},
   "source": [
    "## PT 4 EXTRA!"
   ]
  },
  {
   "cell_type": "code",
   "execution_count": 432,
   "id": "8695a03c-3c1a-48d6-b9a8-1db31684ae72",
   "metadata": {},
   "outputs": [
    {
     "data": {
      "text/plain": [
       "96.66666666666667"
      ]
     },
     "execution_count": 432,
     "metadata": {},
     "output_type": "execute_result"
    }
   ],
   "source": [
    "# Log Loss = 96.6%\n",
    "\n",
    "dtc_ll = DecisionTreeClassifier(random_state=9,criterion='log_loss')\n",
    "dtc_ll.fit(X_train, Y_train)\n",
    "pred_ll = dtc_ll.predict(X_test)\n",
    "acc_train_ll = 100 - (np.sum(pred_ll!=Y_test)/len(pred_ll))* 100\n",
    "acc_train_ll"
   ]
  },
  {
   "cell_type": "code",
   "execution_count": 434,
   "id": "1d1771f0-4148-4811-882b-21031afaf4b8",
   "metadata": {},
   "outputs": [
    {
     "data": {
      "text/plain": [
       "96.66666666666667"
      ]
     },
     "execution_count": 434,
     "metadata": {},
     "output_type": "execute_result"
    }
   ],
   "source": [
    "# Entropy = 96.6%\n",
    "\n",
    "dtc_en = DecisionTreeClassifier(random_state=9,criterion='entropy')\n",
    "dtc_en.fit(X_train, Y_train)\n",
    "pred_en = dtc_en.predict(X_test)\n",
    "acc_train_en = 100 - (np.sum(pred_en!=Y_test)/len(pred_en))* 100\n",
    "acc_train_en"
   ]
  },
  {
   "cell_type": "markdown",
   "id": "28ba0e50-b638-4649-bb5b-c7c01b18ed9f",
   "metadata": {},
   "source": [
    "## PT 5 - Random Forest"
   ]
  },
  {
   "cell_type": "code",
   "execution_count": 420,
   "id": "1bbcf235-8538-4953-be97-ed2a564f9f0c",
   "metadata": {},
   "outputs": [
    {
     "data": {
      "text/plain": [
       "90.0"
      ]
     },
     "execution_count": 420,
     "metadata": {},
     "output_type": "execute_result"
    }
   ],
   "source": [
    "from sklearn.ensemble import RandomForestClassifier\n",
    "rfc = RandomForestClassifier(random_state = 9)\n",
    "rfc.fit(X_train, Y_train)\n",
    "\n",
    "rfc_pred = rfc.predict(X_test)\n",
    "rfc_traing_acc = 100 -((np.sum(rfc_pred!=Y_test)/len(rfc_pred)) * 100)\n",
    "# rfc_traing_acc = 90.0%"
   ]
  },
  {
   "cell_type": "code",
   "execution_count": 428,
   "id": "96adcf51-e9f4-4186-a589-b4738cc2c752",
   "metadata": {},
   "outputs": [
    {
     "data": {
      "text/plain": [
       "96.66666666666667"
      ]
     },
     "execution_count": 428,
     "metadata": {},
     "output_type": "execute_result"
    }
   ],
   "source": [
    "rfc = RandomForestClassifier(random_state = 9)\n",
    "rfc.fit(X_test, Y_test)\n",
    "\n",
    "rfc_pred = rfc.predict(X_train)\n",
    "rfc_traing_acc = 100 -((np.sum(rfc_pred!=Y_train)/len(rfc_pred)) * 100)\n",
    "rfc_traing_acc\n",
    "\n",
    "# rfc_traing_acc = 96.6%\n",
    "# Very weird."
   ]
  },
  {
   "cell_type": "code",
   "execution_count": null,
   "id": "f5cb0147-732f-43ac-8a32-d39b16c51c19",
   "metadata": {},
   "outputs": [],
   "source": []
  }
 ],
 "metadata": {
  "kernelspec": {
   "display_name": "Python 3 (ipykernel)",
   "language": "python",
   "name": "python3"
  },
  "language_info": {
   "codemirror_mode": {
    "name": "ipython",
    "version": 3
   },
   "file_extension": ".py",
   "mimetype": "text/x-python",
   "name": "python",
   "nbconvert_exporter": "python",
   "pygments_lexer": "ipython3",
   "version": "3.11.7"
  }
 },
 "nbformat": 4,
 "nbformat_minor": 5
}
