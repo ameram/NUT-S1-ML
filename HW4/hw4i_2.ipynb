{
 "cells": [
  {
   "cell_type": "code",
   "execution_count": 1,
   "id": "d5adeb8b-a8fc-4bee-bb65-26d5eeea3bf3",
   "metadata": {},
   "outputs": [],
   "source": [
    "import numpy as np\n",
    "import pandas as pd\n",
    "import sklearn as sk\n",
    "from sklearn.datasets import load_digits\n",
    "from sklearn.model_selection import train_test_split\n",
    "from sklearn.tree import DecisionTreeClassifier\n",
    "from sklearn.metrics import accuracy_score\n",
    "import keras"
   ]
  },
  {
   "cell_type": "code",
   "execution_count": 2,
   "id": "bf7c8ac1-fc5f-4cee-94d9-f92d47180a6c",
   "metadata": {},
   "outputs": [],
   "source": [
    "np.random.seed(9)"
   ]
  },
  {
   "cell_type": "code",
   "execution_count": 3,
   "id": "28db8516-274c-491d-b26e-c88553c1065c",
   "metadata": {},
   "outputs": [],
   "source": [
    "df = keras.datasets.mnist.load_data(path=\"mnist.npz\")"
   ]
  },
  {
   "cell_type": "code",
   "execution_count": 4,
   "id": "ee107ff4-ec5d-416b-9245-7ce213b57b34",
   "metadata": {},
   "outputs": [],
   "source": [
    "train, test = df[0], df[1]"
   ]
  },
  {
   "cell_type": "code",
   "execution_count": 5,
   "id": "f4058227-8f14-4142-b183-0fed0f94cbab",
   "metadata": {},
   "outputs": [],
   "source": [
    "train_x, train_y = train[0], train[1]"
   ]
  },
  {
   "cell_type": "code",
   "execution_count": 6,
   "id": "e5e80ce6-b129-44da-bc84-5ae352579792",
   "metadata": {},
   "outputs": [],
   "source": [
    "test_x, test_y = test[0], test[1]"
   ]
  },
  {
   "cell_type": "code",
   "execution_count": 8,
   "id": "2a13780e-ea38-4fb9-b950-ea4434861ac0",
   "metadata": {},
   "outputs": [],
   "source": [
    "train_x = train_x.reshape(-1, 784)\n",
    "test_x = test_x.reshape(-1, 784)"
   ]
  },
  {
   "cell_type": "code",
   "execution_count": 9,
   "id": "6e812ca4-03fc-4a85-b7ef-7b4f31a02f4e",
   "metadata": {},
   "outputs": [
    {
     "name": "stdout",
     "output_type": "stream",
     "text": [
      "(60000, 784)\n",
      "(10000, 784)\n"
     ]
    }
   ],
   "source": [
    "print(train_x.shape)\n",
    "print(test_x.shape)"
   ]
  },
  {
   "cell_type": "code",
   "execution_count": 87,
   "id": "77009ced-f048-4fc4-b821-5ae452c0dd57",
   "metadata": {},
   "outputs": [
    {
     "name": "stdout",
     "output_type": "stream",
     "text": [
      "Running 1\n",
      "87.77\n",
      "Running 2\n",
      "88.0\n",
      "Running 3\n",
      "87.81\n",
      "Running 4\n",
      "88.01\n",
      "Running 5\n",
      "87.9\n",
      "Running 6\n",
      "88.07\n",
      "Running 7\n",
      "87.6\n",
      "Running 8\n",
      "87.64\n",
      "Running 9\n",
      "87.48\n",
      "Running 10\n",
      "87.76\n",
      "Running 11\n",
      "87.91\n",
      "Running 12\n",
      "87.71\n",
      "Running 13\n",
      "87.81\n",
      "Running 14\n",
      "87.79\n",
      "Running 15\n",
      "87.76\n",
      "Running 16\n",
      "87.9\n",
      "Running 17\n",
      "87.81\n",
      "Running 18\n",
      "87.78\n",
      "Running 19\n",
      "87.8\n",
      "Running 20\n",
      "87.77\n"
     ]
    }
   ],
   "source": [
    "# Initial 1/n for w.\n",
    "init_w = 1/test_x.shape[0]\n",
    "clfs = {}\n",
    "\n",
    "for i in range(20):\n",
    "    print(f'Running {i+1}')\n",
    "\n",
    "    # Weight matrix\n",
    "    weights = np.ones(test_x.shape[0]) * init_w\n",
    "\n",
    "    # Initialization of classifier\n",
    "    clf = DecisionTreeClassifier()\n",
    "    clf.fit(train_x, train_y)\n",
    "    print(np.round(clf.score(test_x, test_y) * 100, 2))\n",
    "    # Get prediction and compare\n",
    "    preds = clf.predict(test_x)\n",
    "    \n",
    "    # Total number of cases where pred is not equal to real label\n",
    "    misclass_idx = test_y != preds\n",
    "    miscalssification = ((test_y != preds) * weights)\n",
    "    \n",
    "    # Total cases\n",
    "    total = test_y.shape[0]\n",
    "    \n",
    "    # Error\n",
    "    error = np.sum(miscalssification)/total\n",
    "    \n",
    "    error_ratio = (1-error)/error\n",
    "    lerner_error = 1/2*(np.log2(error_ratio))\n",
    "    \n",
    "    weights[misclass_idx] = weights[misclass_idx]*np.exp(lerner_error)\n",
    "    weights = (weights - np.mean(weights)) / np.std(weights)\n",
    "    clfs[i] = [clf, lerner_error, preds]"
   ]
  },
  {
   "cell_type": "code",
   "execution_count": 128,
   "id": "404bf5d8-f85e-480e-8c90-2cc15276eee3",
   "metadata": {},
   "outputs": [],
   "source": [
    "out = np.ones(test_x.shape[0])\n",
    "lerners = []\n",
    "avgs = []\n",
    "for i, j in clfs.items():\n",
    "    preds = j[2]\n",
    "    lerner_error = j[1]\n",
    "    lerners.append(lerner_error)\n",
    "    avgs.append(preds * lerner_error)"
   ]
  },
  {
   "cell_type": "code",
   "execution_count": 129,
   "id": "63212e07-49f7-4b5e-8f2f-13f3a2279a47",
   "metadata": {},
   "outputs": [
    {
     "data": {
      "text/plain": [
       "20"
      ]
     },
     "execution_count": 129,
     "metadata": {},
     "output_type": "execute_result"
    }
   ],
   "source": [
    "len(lerners)"
   ]
  },
  {
   "cell_type": "code",
   "execution_count": 130,
   "id": "812b4453-fdb7-4745-9461-208a54addfb0",
   "metadata": {},
   "outputs": [
    {
     "data": {
      "text/plain": [
       "[array([57.11719449, 16.31919843,  8.15959921, ..., 32.63839685,\n",
       "        40.79799607, 48.95759528]),\n",
       " array([57.21306065, 16.34658876,  8.17329438, ..., 32.69317751,\n",
       "        40.86647189, 49.03976627]),\n",
       " array([57.13373667, 16.32392476,  8.16196238, ..., 32.64784952,\n",
       "        40.8098119 , 48.97177429]),\n",
       " array([57.21727031, 16.34779152,  8.17389576, ..., 32.69558304,\n",
       "        40.86947879, 49.04337455]),\n",
       " array([57.1711559 , 16.33461597,  8.16730799, ..., 32.66923194,\n",
       "        40.83653993, 49.00384791]),\n",
       " array([57.24260227, 16.35502922,  8.17751461, ..., 32.71005844,\n",
       "        40.88757305, 49.06508766]),\n",
       " array([57.04748863, 16.29928246,  8.14964123, ..., 32.59856493,\n",
       "        40.74820616, 48.89784739]),\n",
       " array([57.06380365, 16.3039439 ,  8.15197195, ..., 32.6078878 ,\n",
       "        40.75985975, 48.9118317 ]),\n",
       " array([56.99885747, 16.28538785,  8.14269392, ..., 32.5707757 ,\n",
       "        40.71346962, 48.85616355]),\n",
       " array([57.1130674 , 16.31801926,  8.15900963, ..., 32.63603852,\n",
       "        40.79504814, 48.95405777]),\n",
       " array([57.17533076, 16.33580879,  8.16790439, ..., 32.67161758,\n",
       "        40.83952197, 49.00742636]),\n",
       " array([57.0924824 , 16.31213783,  8.15606891, ..., 32.62427566,\n",
       "        40.78034457, 48.93641348]),\n",
       " array([57.13373667, 16.32392476,  8.16196238, ..., 32.64784952,\n",
       "        40.8098119 , 48.97177429]),\n",
       " array([57.12545881, 16.32155966,  8.16077983, ..., 32.64311932,\n",
       "        40.80389915, 48.96467898]),\n",
       " array([57.1130674 , 16.31801926,  8.15900963, ..., 32.63603852,\n",
       "        40.79504814, 48.95405777]),\n",
       " array([57.1711559 , 16.33461597,  8.16730799, ..., 32.66923194,\n",
       "        40.83653993, 49.00384791]),\n",
       " array([57.13373667, 16.32392476,  8.16196238, ..., 32.64784952,\n",
       "        40.8098119 , 48.97177429]),\n",
       " array([57.12132496, 16.32037856,  8.16018928, ..., 32.64075712,\n",
       "        40.8009464 , 48.96113568]),\n",
       " array([57.12959604, 16.32274173,  8.16137086, ..., 32.64548345,\n",
       "        40.80685431, 48.96822518]),\n",
       " array([57.11719449, 16.31919843,  8.15959921, ..., 32.63839685,\n",
       "        40.79799607, 48.95759528])]"
      ]
     },
     "execution_count": 130,
     "metadata": {},
     "output_type": "execute_result"
    }
   ],
   "source": [
    "avgs"
   ]
  },
  {
   "cell_type": "code",
   "execution_count": 131,
   "id": "bd9caeed-b146-4171-823e-85c9308ba950",
   "metadata": {},
   "outputs": [
    {
     "data": {
      "text/plain": [
       "array([7, 2, 1, ..., 4, 5, 6], dtype=uint8)"
      ]
     },
     "execution_count": 131,
     "metadata": {},
     "output_type": "execute_result"
    }
   ],
   "source": [
    "clfs[0][2]"
   ]
  },
  {
   "cell_type": "code",
   "execution_count": 144,
   "id": "8972f866-db10-42fd-9bd4-5fed344c3cbf",
   "metadata": {},
   "outputs": [],
   "source": [
    "npavgs = np.average(np.array(avgs), axis = 0)/np.average(lerners)"
   ]
  },
  {
   "cell_type": "code",
   "execution_count": 146,
   "id": "93dbf852-0661-438f-a26b-33230fb90170",
   "metadata": {},
   "outputs": [
    {
     "data": {
      "text/plain": [
       "0.8479"
      ]
     },
     "execution_count": 146,
     "metadata": {},
     "output_type": "execute_result"
    }
   ],
   "source": [
    "accuracy_score(test_y, np.int64(npavgs))"
   ]
  },
  {
   "cell_type": "code",
   "execution_count": null,
   "id": "c609308c-8aa2-4aea-acc9-309faca58bc8",
   "metadata": {},
   "outputs": [],
   "source": []
  }
 ],
 "metadata": {
  "kernelspec": {
   "display_name": "Python 3 (ipykernel)",
   "language": "python",
   "name": "python3"
  },
  "language_info": {
   "codemirror_mode": {
    "name": "ipython",
    "version": 3
   },
   "file_extension": ".py",
   "mimetype": "text/x-python",
   "name": "python",
   "nbconvert_exporter": "python",
   "pygments_lexer": "ipython3",
   "version": "3.11.10"
  }
 },
 "nbformat": 4,
 "nbformat_minor": 5
}
