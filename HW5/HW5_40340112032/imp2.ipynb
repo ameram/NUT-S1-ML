{
 "cells": [
  {
   "cell_type": "code",
   "execution_count": 1,
   "id": "821edabc-0cdc-418e-89b8-0e250a0995db",
   "metadata": {},
   "outputs": [],
   "source": [
    "import numpy as np\n",
    "import pandas as pd\n",
    "import matplotlib.pyplot as plt"
   ]
  },
  {
   "cell_type": "code",
   "execution_count": 2,
   "id": "ec30d82e-21e0-4cc0-9d40-67c78fed7e51",
   "metadata": {
    "scrolled": true
   },
   "outputs": [],
   "source": [
    "x = np.linspace(0, 10, 100)"
   ]
  },
  {
   "cell_type": "code",
   "execution_count": 3,
   "id": "24ea6bd4-39b8-42c9-82f3-d3ce0c3fcfb8",
   "metadata": {},
   "outputs": [],
   "source": [
    "y = (3 * x) + 2"
   ]
  },
  {
   "cell_type": "code",
   "execution_count": 4,
   "id": "7bef09d5-0333-4ffc-9d31-3f3186ef3105",
   "metadata": {},
   "outputs": [],
   "source": [
    "y = y + np.random.normal(0, 0.8, 100)"
   ]
  },
  {
   "cell_type": "code",
   "execution_count": 5,
   "id": "dc5704f7-61b4-49c9-a951-53cbcd2146fb",
   "metadata": {},
   "outputs": [
    {
     "data": {
      "text/plain": [
       "(100,)"
      ]
     },
     "execution_count": 5,
     "metadata": {},
     "output_type": "execute_result"
    }
   ],
   "source": [
    "y.shape"
   ]
  },
  {
   "cell_type": "code",
   "execution_count": 6,
   "id": "e2a7c751-eec5-4b0f-8d94-e6f284fa10a5",
   "metadata": {},
   "outputs": [],
   "source": [
    "from sklearn.model_selection import train_test_split\n",
    "train_x, test_x, train_y, test_y = train_test_split(x, y, test_size=.2)"
   ]
  },
  {
   "cell_type": "code",
   "execution_count": 275,
   "id": "d27dba13-0ccc-4014-b786-c1440a985650",
   "metadata": {},
   "outputs": [],
   "source": [
    "def fit(X, y, iterations, learning_rate, w, b):\n",
    "    weights = w\n",
    "    bias = b\n",
    "    for i in range(iterations):\n",
    "        # print(f'Iteration {i}')\n",
    "        w1, b1 = gradient_descent(X, y, learning_rate, weights, bias) \n",
    "        weights = w1\n",
    "        bias = b1\n",
    "    return weights, bias\n",
    "\n",
    "def gradient_descent(X, y, learning_rate, w, b):\n",
    "    y_pred = predict(X, w, b)\n",
    "    m = X.shape[0]\n",
    "    # print(m)\n",
    "    # print(F'YPred = {y_pred}')\n",
    "    # print(-(2 * (X.T).dot(y - y_pred)))\n",
    "    # cost = (1/(2*m)) * np.sum(np.square(y_pred - y))\n",
    "    # print(f'Cost {cost}')\n",
    "    db=(np.sum(y_pred-y))/m\n",
    "    dw=np.dot(y_pred-y, X)/m\n",
    "\n",
    "    weights = w - learning_rate * dw\n",
    "    # print(f'W: {weights}')\n",
    "    bias = b-learning_rate * db\n",
    "    return weights, bias\n",
    "\n",
    "def predict(X, w, b):\n",
    "    # print(X.shape)\n",
    "    # print(w)\n",
    "    # print((X * w))\n",
    "    return (X * w) + b "
   ]
  },
  {
   "cell_type": "code",
   "execution_count": 276,
   "id": "08ad4d21-c7e7-4e64-883e-e6ad7ae79a0e",
   "metadata": {},
   "outputs": [],
   "source": [
    "def runn(X, y, iterations=3, learning_rate=14):\n",
    "    m = train_x.shape[0]\n",
    "    weights = 0\n",
    "    bias = 0\n",
    "    w, b = fit(X, y, iterations, learning_rate, weights, bias)\n",
    "    return w, b"
   ]
  },
  {
   "cell_type": "code",
   "execution_count": 277,
   "id": "b025e7ed-8503-43f2-8776-f6eba2c6e9c1",
   "metadata": {
    "scrolled": true
   },
   "outputs": [],
   "source": [
    "wn, bn = runn(train_x, train_y, 8, 0.05)"
   ]
  },
  {
   "cell_type": "code",
   "execution_count": 252,
   "id": "66a51bb2-d9e1-49b7-b977-c6a54ca920e1",
   "metadata": {},
   "outputs": [],
   "source": [
    "preds = predict(test_x, wn, bn)"
   ]
  },
  {
   "cell_type": "code",
   "execution_count": 255,
   "id": "e32fdca2-e2a4-45c2-9fa1-3dc5812b81da",
   "metadata": {},
   "outputs": [
    {
     "data": {
      "text/plain": [
       "1.5350924937954242"
      ]
     },
     "execution_count": 255,
     "metadata": {},
     "output_type": "execute_result"
    }
   ],
   "source": [
    "np.sum(np.abs(preds - test_y))/len(test_x)"
   ]
  },
  {
   "cell_type": "code",
   "execution_count": 266,
   "id": "738592df-9287-4a71-a002-27df67a686af",
   "metadata": {},
   "outputs": [
    {
     "data": {
      "text/plain": [
       "Text(0.5, 1.0, 'Data plot')"
      ]
     },
     "execution_count": 266,
     "metadata": {},
     "output_type": "execute_result"
    },
    {
     "data": {
      "image/png": "[encoded data removed]",
      "text/plain": [
       "<Figure size 640x480 with 1 Axes>"
      ]
     },
     "metadata": {},
     "output_type": "display_data"
    }
   ],
   "source": [
    "fig, ax = plt.subplots()\n",
    "ax.scatter(test_x, test_y)\n",
    "ax.scatter(test_x, preds, c='r')\n",
    "ax.set_title('Data plot')"
   ]
  },
  {
   "cell_type": "code",
   "execution_count": 281,
   "id": "a624dd7a-3a17-48c6-98a5-9af4d240268e",
   "metadata": {},
   "outputs": [
    {
     "name": "stdout",
     "output_type": "stream",
     "text": [
      "!!! Best cost is 0.8855192680456447 using rate: 0.05 and 32steps.\n"
     ]
    }
   ],
   "source": [
    "rates = [1, 0.1, 0.05, 0.02, 0.01, 0.005, 0.002, 0.001, 0.0005]\n",
    "steps = [2, 4, 8, 16, 32]\n",
    "\n",
    "best_rate = 0\n",
    "best_step = 0\n",
    "best_cost = float('inf')\n",
    "for rate in rates:\n",
    "    for epoch in steps:\n",
    "        wn, bn = runn(train_x, train_y, epoch, rate)\n",
    "        preds = predict(test_x, wn, bn)\n",
    "        test_cost = np.sum(np.abs(preds - test_y))/len(test_x)\n",
    "        if test_cost < best_cost:\n",
    "            best_cost = test_cost\n",
    "            best_rate = rate\n",
    "            best_step = epoch\n",
    "        # print(f'Cost with steps{epoch} and lr{rate} is: {test_cost}')\n",
    "print(f'!!! Best cost is {best_cost} using rate: {best_rate} and {best_step}steps.')"
   ]
  },
  {
   "cell_type": "code",
   "execution_count": null,
   "id": "12bf70e8-e6bd-45b2-a3ae-f02f51e29408",
   "metadata": {},
   "outputs": [],
   "source": []
  },
  {
   "cell_type": "code",
   "execution_count": 286,
   "id": "96d31bf6-44f4-42b8-b236-2f1ed1d7994c",
   "metadata": {},
   "outputs": [
    {
     "data": {
      "text/plain": [
       "Text(0.5, 1.0, 'Data plot')"
      ]
     },
     "execution_count": 286,
     "metadata": {},
     "output_type": "execute_result"
    },
    {
     "data": {
      "image/png": "[encoded data removed]",
      "text/plain": [
       "<Figure size 640x480 with 1 Axes>"
      ]
     },
     "metadata": {},
     "output_type": "display_data"
    }
   ],
   "source": [
    "# Let's plot the best results\n",
    "\n",
    "# First get the weights and bias\n",
    "w_best, b_best = runn(train_x, train_y, 32, 0.05)\n",
    "best_preds = predict(test_x, w_best, b_best)\n",
    "\n",
    "# Plotting\n",
    "fig, ax = plt.subplots()\n",
    "ax.scatter(test_x, test_y)\n",
    "ax.scatter(test_x, best_preds, c='r')\n",
    "ax.set_title('Data plot')"
   ]
  },
  {
   "cell_type": "code",
   "execution_count": null,
   "id": "88e74dcf-6369-41a9-8cee-6c1add469412",
   "metadata": {},
   "outputs": [],
   "source": []
  }
 ],
 "metadata": {
  "kernelspec": {
   "display_name": "Python 3 (ipykernel)",
   "language": "python",
   "name": "python3"
  },
  "language_info": {
   "codemirror_mode": {
    "name": "ipython",
    "version": 3
   },
   "file_extension": ".py",
   "mimetype": "text/x-python",
   "name": "python",
   "nbconvert_exporter": "python",
   "pygments_lexer": "ipython3",
   "version": "3.11.10"
  }
 },
 "nbformat": 4,
 "nbformat_minor": 5
}
