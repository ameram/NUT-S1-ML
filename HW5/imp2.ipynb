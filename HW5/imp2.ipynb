{
 "cells": [
  {
   "cell_type": "code",
   "execution_count": 1,
   "id": "821edabc-0cdc-418e-89b8-0e250a0995db",
   "metadata": {},
   "outputs": [],
   "source": [
    "import numpy as np\n",
    "import pandas as pd\n",
    "import matplotlib.pyplot as plt"
   ]
  },
  {
   "cell_type": "code",
   "execution_count": 7,
   "id": "ec30d82e-21e0-4cc0-9d40-67c78fed7e51",
   "metadata": {
    "scrolled": true
   },
   "outputs": [],
   "source": [
    "x = np.linspace(0, 10, 100)"
   ]
  },
  {
   "cell_type": "code",
   "execution_count": 8,
   "id": "24ea6bd4-39b8-42c9-82f3-d3ce0c3fcfb8",
   "metadata": {},
   "outputs": [],
   "source": [
    "y = (3 * x) + 2"
   ]
  },
  {
   "cell_type": "code",
   "execution_count": 11,
   "id": "7bef09d5-0333-4ffc-9d31-3f3186ef3105",
   "metadata": {},
   "outputs": [],
   "source": [
    "y = y + np.random.normal(0, 0.8, 100)"
   ]
  },
  {
   "cell_type": "code",
   "execution_count": 12,
   "id": "dc5704f7-61b4-49c9-a951-53cbcd2146fb",
   "metadata": {},
   "outputs": [
    {
     "data": {
      "text/plain": [
       "(100,)"
      ]
     },
     "execution_count": 12,
     "metadata": {},
     "output_type": "execute_result"
    }
   ],
   "source": [
    "y.shape"
   ]
  },
  {
   "cell_type": "code",
   "execution_count": 14,
   "id": "e2a7c751-eec5-4b0f-8d94-e6f284fa10a5",
   "metadata": {},
   "outputs": [],
   "source": [
    "from sklearn.model_selection import train_test_split\n",
    "train_x, test_x, train_y, test_y = train_test_split(x, y, test_size=.2)"
   ]
  },
  {
   "cell_type": "code",
   "execution_count": null,
   "id": "22158d6f-3459-47bb-a9b8-911f4c3752e2",
   "metadata": {},
   "outputs": [],
   "source": [
    "class LinearRegression(): \n",
    "\t\n",
    "\tdef __init__( self, learning_rate, iterations ): \n",
    "\t\tself.learning_rate = learning_rate \n",
    "\t\tself.iterations = iterations \n",
    "\t\t\n",
    "\tdef fit( self, X, Y): \n",
    "\t\tself.m, self.n = X.shape \n",
    "\t\tself.W = np.zeros(self.n) \n",
    "\t\tself.b = 0\n",
    "\t\tself.X = X \n",
    "\t\tself.Y = Y \n",
    "\t\t\n",
    "        for i in range( self.iterations ): \t\n",
    "\t\t\tself.update_weights() \n",
    "\t\treturn self\n",
    "\t\n",
    "    def update_weights(self): \n",
    "\t\t\t\n",
    "\t\tY_pred = self.predict(self.X) \t\n",
    "\t\tdW = - ( 2 * ( self.X.T ).dot( self.Y - Y_pred ) ) / self.m \n",
    "\t\tdb = - 2 * np.sum( self.Y - Y_pred ) / self.m \n",
    "\t\t\n",
    "\t\tself.W = self.W - self.learning_rate * dW \n",
    "\t\tself.b = self.b - self.learning_rate * db \n",
    "\t\treturn self\n",
    "    \n",
    "\tdef predict( self, X ) : \n",
    "\t\treturn X.dot( self.W ) + self.b \n",
    "\t\n",
    "\n",
    "\n",
    "def main() : \n",
    "\tdf = pd.read_csv( \"salary_data.csv\" ) \n",
    "\tX = df.iloc[:,:-1].values \n",
    "\tY = df.iloc[:,1].values \n",
    "\t\n",
    "\tX_train, X_test, Y_train, Y_test = train_test_split( \n",
    "\tX, Y, test_size = 1/3, random_state = 0 ) \n",
    "\t\n",
    "\tmodel = LinearRegression( iterations = 1000, learning_rate = 0.01 ) \n",
    "    model.fit( X_train, Y_train ) \n",
    "\t\n",
    "    Y_pred = model.predict( X_test ) \n",
    "\t\n",
    "\tprint( \"Predicted values \", np.round( Y_pred[:3], 2 ) ) \n",
    "\tprint( \"Real values\t \", Y_test[:3] ) \n",
    "\tprint( \"Trained W\t \", round( model.W[0], 2 ) ) \n",
    "\tprint( \"Trained b\t \", round( model.b, 2 ) ) \n",
    "\t\n",
    "\t\n",
    "\tplt.scatter( X_test, Y_test, color = 'blue')\n",
    "\tplt.plot( X_test, Y_pred, color = 'orange') \t\n",
    "\tplt.title( 'Salary vs Experience') \n",
    "\tplt.xlabel( 'Years of Experience') \n",
    "\tplt.ylabel( 'Salary' ) \n",
    "\tplt.show() \n",
    "\t\n",
    "if __name__ == \"__main__\" : \n",
    "\tmain()"
   ]
  }
 ],
 "metadata": {
  "kernelspec": {
   "display_name": "Python 3 (ipykernel)",
   "language": "python",
   "name": "python3"
  },
  "language_info": {
   "codemirror_mode": {
    "name": "ipython",
    "version": 3
   },
   "file_extension": ".py",
   "mimetype": "text/x-python",
   "name": "python",
   "nbconvert_exporter": "python",
   "pygments_lexer": "ipython3",
   "version": "3.11.10"
  }
 },
 "nbformat": 4,
 "nbformat_minor": 5
}
